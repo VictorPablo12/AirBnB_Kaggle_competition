{
 "cells": [
  {
   "cell_type": "markdown",
   "id": "0f60771e",
   "metadata": {},
   "source": [
    "### EDA"
   ]
  },
  {
   "cell_type": "code",
   "execution_count": 1,
   "id": "8e78e0bb",
   "metadata": {},
   "outputs": [],
   "source": [
    "import numpy as np\n",
    "import pandas as pd\n",
    "import re\n",
    "import matplotlib.pyplot as plt\n",
    "from sklearn.cluster import DBSCAN\n",
    "from hdbscan import HDBSCAN\n",
    "import seaborn as sns\n",
    "import plotly_express as px\n",
    "import geopandas as gpd\n",
    "import geopy\n",
    "from geopy.geocoders import Nominatim\n",
    "from geopy.extra.rate_limiter import RateLimiter\n",
    "from sklearn.model_selection import train_test_split as tts\n",
    "from sklearn.neighbors import KNeighborsClassifier as KNNC\n",
    "from PIL import Image"
   ]
  },
  {
   "cell_type": "markdown",
   "id": "13ed8bbf",
   "metadata": {},
   "source": [
    "Loading dataset we'll be training with:"
   ]
  },
  {
   "cell_type": "code",
   "execution_count": 2,
   "id": "62213a48",
   "metadata": {},
   "outputs": [],
   "source": [
    "train = pd.read_csv('data/train.csv.zip')"
   ]
  },
  {
   "cell_type": "code",
   "execution_count": 3,
   "id": "34aebfcc",
   "metadata": {},
   "outputs": [
    {
     "data": {
      "text/plain": [
       "(4167, 74)"
      ]
     },
     "execution_count": 3,
     "metadata": {},
     "output_type": "execute_result"
    }
   ],
   "source": [
    "train.shape #4167 rows & 74 columns\n",
    "train.columns[:5]\n",
    "train.shape"
   ]
  },
  {
   "cell_type": "markdown",
   "id": "1e4d08c6",
   "metadata": {},
   "source": [
    "Vamos a justar las opciones del display para poder ver bien los datos"
   ]
  },
  {
   "cell_type": "code",
   "execution_count": 4,
   "id": "9d70da7d",
   "metadata": {},
   "outputs": [],
   "source": [
    "pd.set_option('display.max_columns', None)\n",
    "pd.set_option('display.max_rows', None)"
   ]
  },
  {
   "cell_type": "code",
   "execution_count": 9,
   "id": "8e27392c",
   "metadata": {},
   "outputs": [
    {
     "data": {
      "text/html": [
       "<div>\n",
       "<style scoped>\n",
       "    .dataframe tbody tr th:only-of-type {\n",
       "        vertical-align: middle;\n",
       "    }\n",
       "\n",
       "    .dataframe tbody tr th {\n",
       "        vertical-align: top;\n",
       "    }\n",
       "\n",
       "    .dataframe thead th {\n",
       "        text-align: right;\n",
       "    }\n",
       "</style>\n",
       "<table border=\"1\" class=\"dataframe\">\n",
       "  <thead>\n",
       "    <tr style=\"text-align: right;\">\n",
       "      <th></th>\n",
       "      <th>count</th>\n",
       "      <th>mean</th>\n",
       "      <th>std</th>\n",
       "      <th>min</th>\n",
       "      <th>25%</th>\n",
       "      <th>50%</th>\n",
       "      <th>75%</th>\n",
       "      <th>max</th>\n",
       "    </tr>\n",
       "  </thead>\n",
       "  <tbody>\n",
       "    <tr>\n",
       "      <th>id</th>\n",
       "      <td>4167.0</td>\n",
       "      <td>2.083000e+03</td>\n",
       "      <td>1.203054e+03</td>\n",
       "      <td>0.000000e+00</td>\n",
       "      <td>1.041500e+03</td>\n",
       "      <td>2.083000e+03</td>\n",
       "      <td>3.124500e+03</td>\n",
       "      <td>4.166000e+03</td>\n",
       "    </tr>\n",
       "    <tr>\n",
       "      <th>scrape_id</th>\n",
       "      <td>4167.0</td>\n",
       "      <td>2.021121e+13</td>\n",
       "      <td>4.180189e-01</td>\n",
       "      <td>2.021121e+13</td>\n",
       "      <td>2.021121e+13</td>\n",
       "      <td>2.021121e+13</td>\n",
       "      <td>2.021121e+13</td>\n",
       "      <td>2.021121e+13</td>\n",
       "    </tr>\n",
       "    <tr>\n",
       "      <th>host_id</th>\n",
       "      <td>4167.0</td>\n",
       "      <td>8.968890e+07</td>\n",
       "      <td>1.158584e+08</td>\n",
       "      <td>3.159000e+03</td>\n",
       "      <td>9.002030e+06</td>\n",
       "      <td>3.133220e+07</td>\n",
       "      <td>1.354875e+08</td>\n",
       "      <td>4.346341e+08</td>\n",
       "    </tr>\n",
       "    <tr>\n",
       "      <th>host_listings_count</th>\n",
       "      <td>4167.0</td>\n",
       "      <td>2.488601e+00</td>\n",
       "      <td>1.450804e+01</td>\n",
       "      <td>0.000000e+00</td>\n",
       "      <td>1.000000e+00</td>\n",
       "      <td>1.000000e+00</td>\n",
       "      <td>2.000000e+00</td>\n",
       "      <td>7.180000e+02</td>\n",
       "    </tr>\n",
       "    <tr>\n",
       "      <th>host_total_listings_count</th>\n",
       "      <td>4167.0</td>\n",
       "      <td>2.488601e+00</td>\n",
       "      <td>1.450804e+01</td>\n",
       "      <td>0.000000e+00</td>\n",
       "      <td>1.000000e+00</td>\n",
       "      <td>1.000000e+00</td>\n",
       "      <td>2.000000e+00</td>\n",
       "      <td>7.180000e+02</td>\n",
       "    </tr>\n",
       "    <tr>\n",
       "      <th>neighbourhood_group_cleansed</th>\n",
       "      <td>0.0</td>\n",
       "      <td>NaN</td>\n",
       "      <td>NaN</td>\n",
       "      <td>NaN</td>\n",
       "      <td>NaN</td>\n",
       "      <td>NaN</td>\n",
       "      <td>NaN</td>\n",
       "      <td>NaN</td>\n",
       "    </tr>\n",
       "    <tr>\n",
       "      <th>latitude</th>\n",
       "      <td>4167.0</td>\n",
       "      <td>5.236691e+01</td>\n",
       "      <td>1.683493e-02</td>\n",
       "      <td>5.229103e+01</td>\n",
       "      <td>5.235666e+01</td>\n",
       "      <td>5.236659e+01</td>\n",
       "      <td>5.237655e+01</td>\n",
       "      <td>5.242476e+01</td>\n",
       "    </tr>\n",
       "    <tr>\n",
       "      <th>longitude</th>\n",
       "      <td>4167.0</td>\n",
       "      <td>4.891435e+00</td>\n",
       "      <td>3.617564e-02</td>\n",
       "      <td>4.753510e+00</td>\n",
       "      <td>4.869430e+00</td>\n",
       "      <td>4.888790e+00</td>\n",
       "      <td>4.908985e+00</td>\n",
       "      <td>5.026430e+00</td>\n",
       "    </tr>\n",
       "    <tr>\n",
       "      <th>accommodates</th>\n",
       "      <td>4167.0</td>\n",
       "      <td>2.941205e+00</td>\n",
       "      <td>1.464789e+00</td>\n",
       "      <td>0.000000e+00</td>\n",
       "      <td>2.000000e+00</td>\n",
       "      <td>2.000000e+00</td>\n",
       "      <td>4.000000e+00</td>\n",
       "      <td>1.600000e+01</td>\n",
       "    </tr>\n",
       "    <tr>\n",
       "      <th>bathrooms</th>\n",
       "      <td>0.0</td>\n",
       "      <td>NaN</td>\n",
       "      <td>NaN</td>\n",
       "      <td>NaN</td>\n",
       "      <td>NaN</td>\n",
       "      <td>NaN</td>\n",
       "      <td>NaN</td>\n",
       "      <td>NaN</td>\n",
       "    </tr>\n",
       "    <tr>\n",
       "      <th>bedrooms</th>\n",
       "      <td>3914.0</td>\n",
       "      <td>1.577414e+00</td>\n",
       "      <td>9.168111e-01</td>\n",
       "      <td>1.000000e+00</td>\n",
       "      <td>1.000000e+00</td>\n",
       "      <td>1.000000e+00</td>\n",
       "      <td>2.000000e+00</td>\n",
       "      <td>1.000000e+01</td>\n",
       "    </tr>\n",
       "    <tr>\n",
       "      <th>beds</th>\n",
       "      <td>3993.0</td>\n",
       "      <td>1.956424e+00</td>\n",
       "      <td>1.640881e+00</td>\n",
       "      <td>1.000000e+00</td>\n",
       "      <td>1.000000e+00</td>\n",
       "      <td>1.000000e+00</td>\n",
       "      <td>2.000000e+00</td>\n",
       "      <td>3.300000e+01</td>\n",
       "    </tr>\n",
       "    <tr>\n",
       "      <th>price</th>\n",
       "      <td>4167.0</td>\n",
       "      <td>1.686770e+02</td>\n",
       "      <td>1.806586e+02</td>\n",
       "      <td>0.000000e+00</td>\n",
       "      <td>9.800000e+01</td>\n",
       "      <td>1.380000e+02</td>\n",
       "      <td>2.000000e+02</td>\n",
       "      <td>6.477000e+03</td>\n",
       "    </tr>\n",
       "    <tr>\n",
       "      <th>minimum_nights</th>\n",
       "      <td>4167.0</td>\n",
       "      <td>3.670746e+00</td>\n",
       "      <td>2.245592e+01</td>\n",
       "      <td>1.000000e+00</td>\n",
       "      <td>2.000000e+00</td>\n",
       "      <td>2.000000e+00</td>\n",
       "      <td>3.000000e+00</td>\n",
       "      <td>1.001000e+03</td>\n",
       "    </tr>\n",
       "    <tr>\n",
       "      <th>maximum_nights</th>\n",
       "      <td>4167.0</td>\n",
       "      <td>5.354471e+02</td>\n",
       "      <td>5.259252e+02</td>\n",
       "      <td>1.000000e+00</td>\n",
       "      <td>2.500000e+01</td>\n",
       "      <td>3.650000e+02</td>\n",
       "      <td>1.125000e+03</td>\n",
       "      <td>1.825000e+03</td>\n",
       "    </tr>\n",
       "    <tr>\n",
       "      <th>minimum_minimum_nights</th>\n",
       "      <td>4166.0</td>\n",
       "      <td>3.596495e+00</td>\n",
       "      <td>2.245493e+01</td>\n",
       "      <td>1.000000e+00</td>\n",
       "      <td>2.000000e+00</td>\n",
       "      <td>2.000000e+00</td>\n",
       "      <td>3.000000e+00</td>\n",
       "      <td>1.001000e+03</td>\n",
       "    </tr>\n",
       "    <tr>\n",
       "      <th>maximum_minimum_nights</th>\n",
       "      <td>4166.0</td>\n",
       "      <td>4.113538e+00</td>\n",
       "      <td>2.269528e+01</td>\n",
       "      <td>1.000000e+00</td>\n",
       "      <td>2.000000e+00</td>\n",
       "      <td>3.000000e+00</td>\n",
       "      <td>4.000000e+00</td>\n",
       "      <td>1.001000e+03</td>\n",
       "    </tr>\n",
       "    <tr>\n",
       "      <th>minimum_maximum_nights</th>\n",
       "      <td>4166.0</td>\n",
       "      <td>6.664698e+02</td>\n",
       "      <td>5.243284e+02</td>\n",
       "      <td>1.000000e+00</td>\n",
       "      <td>3.000000e+01</td>\n",
       "      <td>1.125000e+03</td>\n",
       "      <td>1.125000e+03</td>\n",
       "      <td>1.825000e+03</td>\n",
       "    </tr>\n",
       "    <tr>\n",
       "      <th>maximum_maximum_nights</th>\n",
       "      <td>4166.0</td>\n",
       "      <td>5.161639e+05</td>\n",
       "      <td>3.327132e+07</td>\n",
       "      <td>1.000000e+00</td>\n",
       "      <td>3.000000e+01</td>\n",
       "      <td>1.125000e+03</td>\n",
       "      <td>1.125000e+03</td>\n",
       "      <td>2.147484e+09</td>\n",
       "    </tr>\n",
       "    <tr>\n",
       "      <th>minimum_nights_avg_ntm</th>\n",
       "      <td>4166.0</td>\n",
       "      <td>3.799136e+00</td>\n",
       "      <td>2.251351e+01</td>\n",
       "      <td>1.000000e+00</td>\n",
       "      <td>2.000000e+00</td>\n",
       "      <td>2.100000e+00</td>\n",
       "      <td>3.000000e+00</td>\n",
       "      <td>1.001000e+03</td>\n",
       "    </tr>\n",
       "    <tr>\n",
       "      <th>maximum_nights_avg_ntm</th>\n",
       "      <td>4166.0</td>\n",
       "      <td>5.149907e+05</td>\n",
       "      <td>3.319605e+07</td>\n",
       "      <td>1.000000e+00</td>\n",
       "      <td>3.000000e+01</td>\n",
       "      <td>1.125000e+03</td>\n",
       "      <td>1.125000e+03</td>\n",
       "      <td>2.142625e+09</td>\n",
       "    </tr>\n",
       "    <tr>\n",
       "      <th>calendar_updated</th>\n",
       "      <td>0.0</td>\n",
       "      <td>NaN</td>\n",
       "      <td>NaN</td>\n",
       "      <td>NaN</td>\n",
       "      <td>NaN</td>\n",
       "      <td>NaN</td>\n",
       "      <td>NaN</td>\n",
       "      <td>NaN</td>\n",
       "    </tr>\n",
       "    <tr>\n",
       "      <th>availability_30</th>\n",
       "      <td>4167.0</td>\n",
       "      <td>7.869210e+00</td>\n",
       "      <td>9.553871e+00</td>\n",
       "      <td>0.000000e+00</td>\n",
       "      <td>0.000000e+00</td>\n",
       "      <td>3.000000e+00</td>\n",
       "      <td>1.500000e+01</td>\n",
       "      <td>3.000000e+01</td>\n",
       "    </tr>\n",
       "    <tr>\n",
       "      <th>availability_60</th>\n",
       "      <td>4167.0</td>\n",
       "      <td>1.851788e+01</td>\n",
       "      <td>2.084260e+01</td>\n",
       "      <td>0.000000e+00</td>\n",
       "      <td>0.000000e+00</td>\n",
       "      <td>9.000000e+00</td>\n",
       "      <td>3.600000e+01</td>\n",
       "      <td>6.000000e+01</td>\n",
       "    </tr>\n",
       "    <tr>\n",
       "      <th>availability_90</th>\n",
       "      <td>4167.0</td>\n",
       "      <td>2.962203e+01</td>\n",
       "      <td>3.273095e+01</td>\n",
       "      <td>0.000000e+00</td>\n",
       "      <td>0.000000e+00</td>\n",
       "      <td>1.300000e+01</td>\n",
       "      <td>6.300000e+01</td>\n",
       "      <td>9.000000e+01</td>\n",
       "    </tr>\n",
       "    <tr>\n",
       "      <th>availability_365</th>\n",
       "      <td>4167.0</td>\n",
       "      <td>1.065515e+02</td>\n",
       "      <td>1.291552e+02</td>\n",
       "      <td>0.000000e+00</td>\n",
       "      <td>0.000000e+00</td>\n",
       "      <td>3.400000e+01</td>\n",
       "      <td>2.085000e+02</td>\n",
       "      <td>3.650000e+02</td>\n",
       "    </tr>\n",
       "    <tr>\n",
       "      <th>number_of_reviews</th>\n",
       "      <td>4167.0</td>\n",
       "      <td>4.894576e+01</td>\n",
       "      <td>8.933245e+01</td>\n",
       "      <td>0.000000e+00</td>\n",
       "      <td>5.000000e+00</td>\n",
       "      <td>1.700000e+01</td>\n",
       "      <td>4.700000e+01</td>\n",
       "      <td>9.010000e+02</td>\n",
       "    </tr>\n",
       "    <tr>\n",
       "      <th>number_of_reviews_ltm</th>\n",
       "      <td>4167.0</td>\n",
       "      <td>6.310535e+00</td>\n",
       "      <td>1.956165e+01</td>\n",
       "      <td>0.000000e+00</td>\n",
       "      <td>0.000000e+00</td>\n",
       "      <td>1.000000e+00</td>\n",
       "      <td>6.000000e+00</td>\n",
       "      <td>5.970000e+02</td>\n",
       "    </tr>\n",
       "    <tr>\n",
       "      <th>number_of_reviews_l30d</th>\n",
       "      <td>4167.0</td>\n",
       "      <td>8.341733e-01</td>\n",
       "      <td>2.331628e+00</td>\n",
       "      <td>0.000000e+00</td>\n",
       "      <td>0.000000e+00</td>\n",
       "      <td>0.000000e+00</td>\n",
       "      <td>1.000000e+00</td>\n",
       "      <td>6.100000e+01</td>\n",
       "    </tr>\n",
       "    <tr>\n",
       "      <th>review_scores_rating</th>\n",
       "      <td>3790.0</td>\n",
       "      <td>4.794061e+00</td>\n",
       "      <td>3.512184e-01</td>\n",
       "      <td>0.000000e+00</td>\n",
       "      <td>4.730000e+00</td>\n",
       "      <td>4.880000e+00</td>\n",
       "      <td>5.000000e+00</td>\n",
       "      <td>5.000000e+00</td>\n",
       "    </tr>\n",
       "    <tr>\n",
       "      <th>review_scores_accuracy</th>\n",
       "      <td>3782.0</td>\n",
       "      <td>4.836227e+00</td>\n",
       "      <td>2.636410e-01</td>\n",
       "      <td>1.000000e+00</td>\n",
       "      <td>4.780000e+00</td>\n",
       "      <td>4.910000e+00</td>\n",
       "      <td>5.000000e+00</td>\n",
       "      <td>5.000000e+00</td>\n",
       "    </tr>\n",
       "    <tr>\n",
       "      <th>review_scores_cleanliness</th>\n",
       "      <td>3782.0</td>\n",
       "      <td>4.751623e+00</td>\n",
       "      <td>3.293391e-01</td>\n",
       "      <td>1.000000e+00</td>\n",
       "      <td>4.670000e+00</td>\n",
       "      <td>4.850000e+00</td>\n",
       "      <td>4.970000e+00</td>\n",
       "      <td>5.000000e+00</td>\n",
       "    </tr>\n",
       "    <tr>\n",
       "      <th>review_scores_checkin</th>\n",
       "      <td>3782.0</td>\n",
       "      <td>4.875354e+00</td>\n",
       "      <td>2.537162e-01</td>\n",
       "      <td>1.000000e+00</td>\n",
       "      <td>4.852500e+00</td>\n",
       "      <td>4.950000e+00</td>\n",
       "      <td>5.000000e+00</td>\n",
       "      <td>5.000000e+00</td>\n",
       "    </tr>\n",
       "    <tr>\n",
       "      <th>review_scores_communication</th>\n",
       "      <td>3782.0</td>\n",
       "      <td>4.882110e+00</td>\n",
       "      <td>2.589936e-01</td>\n",
       "      <td>1.000000e+00</td>\n",
       "      <td>4.870000e+00</td>\n",
       "      <td>4.960000e+00</td>\n",
       "      <td>5.000000e+00</td>\n",
       "      <td>5.000000e+00</td>\n",
       "    </tr>\n",
       "    <tr>\n",
       "      <th>review_scores_location</th>\n",
       "      <td>3782.0</td>\n",
       "      <td>4.782078e+00</td>\n",
       "      <td>2.494620e-01</td>\n",
       "      <td>1.000000e+00</td>\n",
       "      <td>4.670000e+00</td>\n",
       "      <td>4.845000e+00</td>\n",
       "      <td>4.970000e+00</td>\n",
       "      <td>5.000000e+00</td>\n",
       "    </tr>\n",
       "    <tr>\n",
       "      <th>review_scores_value</th>\n",
       "      <td>3782.0</td>\n",
       "      <td>4.643794e+00</td>\n",
       "      <td>3.083659e-01</td>\n",
       "      <td>1.000000e+00</td>\n",
       "      <td>4.530000e+00</td>\n",
       "      <td>4.690000e+00</td>\n",
       "      <td>4.810000e+00</td>\n",
       "      <td>5.000000e+00</td>\n",
       "    </tr>\n",
       "    <tr>\n",
       "      <th>calculated_host_listings_count</th>\n",
       "      <td>4167.0</td>\n",
       "      <td>2.155508e+00</td>\n",
       "      <td>3.094729e+00</td>\n",
       "      <td>1.000000e+00</td>\n",
       "      <td>1.000000e+00</td>\n",
       "      <td>1.000000e+00</td>\n",
       "      <td>2.000000e+00</td>\n",
       "      <td>2.200000e+01</td>\n",
       "    </tr>\n",
       "    <tr>\n",
       "      <th>calculated_host_listings_count_entire_homes</th>\n",
       "      <td>4167.0</td>\n",
       "      <td>1.090473e+00</td>\n",
       "      <td>1.913322e+00</td>\n",
       "      <td>0.000000e+00</td>\n",
       "      <td>0.000000e+00</td>\n",
       "      <td>1.000000e+00</td>\n",
       "      <td>1.000000e+00</td>\n",
       "      <td>2.200000e+01</td>\n",
       "    </tr>\n",
       "    <tr>\n",
       "      <th>calculated_host_listings_count_private_rooms</th>\n",
       "      <td>4167.0</td>\n",
       "      <td>9.347252e-01</td>\n",
       "      <td>2.325021e+00</td>\n",
       "      <td>0.000000e+00</td>\n",
       "      <td>0.000000e+00</td>\n",
       "      <td>0.000000e+00</td>\n",
       "      <td>1.000000e+00</td>\n",
       "      <td>2.100000e+01</td>\n",
       "    </tr>\n",
       "    <tr>\n",
       "      <th>calculated_host_listings_count_shared_rooms</th>\n",
       "      <td>4167.0</td>\n",
       "      <td>1.655868e-02</td>\n",
       "      <td>2.077804e-01</td>\n",
       "      <td>0.000000e+00</td>\n",
       "      <td>0.000000e+00</td>\n",
       "      <td>0.000000e+00</td>\n",
       "      <td>0.000000e+00</td>\n",
       "      <td>4.000000e+00</td>\n",
       "    </tr>\n",
       "    <tr>\n",
       "      <th>reviews_per_month</th>\n",
       "      <td>3790.0</td>\n",
       "      <td>1.452625e+00</td>\n",
       "      <td>2.816455e+00</td>\n",
       "      <td>1.000000e-02</td>\n",
       "      <td>3.100000e-01</td>\n",
       "      <td>6.800000e-01</td>\n",
       "      <td>1.700000e+00</td>\n",
       "      <td>9.589000e+01</td>\n",
       "    </tr>\n",
       "  </tbody>\n",
       "</table>\n",
       "</div>"
      ],
      "text/plain": [
       "                                               count          mean  \\\n",
       "id                                            4167.0  2.083000e+03   \n",
       "scrape_id                                     4167.0  2.021121e+13   \n",
       "host_id                                       4167.0  8.968890e+07   \n",
       "host_listings_count                           4167.0  2.488601e+00   \n",
       "host_total_listings_count                     4167.0  2.488601e+00   \n",
       "neighbourhood_group_cleansed                     0.0           NaN   \n",
       "latitude                                      4167.0  5.236691e+01   \n",
       "longitude                                     4167.0  4.891435e+00   \n",
       "accommodates                                  4167.0  2.941205e+00   \n",
       "bathrooms                                        0.0           NaN   \n",
       "bedrooms                                      3914.0  1.577414e+00   \n",
       "beds                                          3993.0  1.956424e+00   \n",
       "price                                         4167.0  1.686770e+02   \n",
       "minimum_nights                                4167.0  3.670746e+00   \n",
       "maximum_nights                                4167.0  5.354471e+02   \n",
       "minimum_minimum_nights                        4166.0  3.596495e+00   \n",
       "maximum_minimum_nights                        4166.0  4.113538e+00   \n",
       "minimum_maximum_nights                        4166.0  6.664698e+02   \n",
       "maximum_maximum_nights                        4166.0  5.161639e+05   \n",
       "minimum_nights_avg_ntm                        4166.0  3.799136e+00   \n",
       "maximum_nights_avg_ntm                        4166.0  5.149907e+05   \n",
       "calendar_updated                                 0.0           NaN   \n",
       "availability_30                               4167.0  7.869210e+00   \n",
       "availability_60                               4167.0  1.851788e+01   \n",
       "availability_90                               4167.0  2.962203e+01   \n",
       "availability_365                              4167.0  1.065515e+02   \n",
       "number_of_reviews                             4167.0  4.894576e+01   \n",
       "number_of_reviews_ltm                         4167.0  6.310535e+00   \n",
       "number_of_reviews_l30d                        4167.0  8.341733e-01   \n",
       "review_scores_rating                          3790.0  4.794061e+00   \n",
       "review_scores_accuracy                        3782.0  4.836227e+00   \n",
       "review_scores_cleanliness                     3782.0  4.751623e+00   \n",
       "review_scores_checkin                         3782.0  4.875354e+00   \n",
       "review_scores_communication                   3782.0  4.882110e+00   \n",
       "review_scores_location                        3782.0  4.782078e+00   \n",
       "review_scores_value                           3782.0  4.643794e+00   \n",
       "calculated_host_listings_count                4167.0  2.155508e+00   \n",
       "calculated_host_listings_count_entire_homes   4167.0  1.090473e+00   \n",
       "calculated_host_listings_count_private_rooms  4167.0  9.347252e-01   \n",
       "calculated_host_listings_count_shared_rooms   4167.0  1.655868e-02   \n",
       "reviews_per_month                             3790.0  1.452625e+00   \n",
       "\n",
       "                                                       std           min  \\\n",
       "id                                            1.203054e+03  0.000000e+00   \n",
       "scrape_id                                     4.180189e-01  2.021121e+13   \n",
       "host_id                                       1.158584e+08  3.159000e+03   \n",
       "host_listings_count                           1.450804e+01  0.000000e+00   \n",
       "host_total_listings_count                     1.450804e+01  0.000000e+00   \n",
       "neighbourhood_group_cleansed                           NaN           NaN   \n",
       "latitude                                      1.683493e-02  5.229103e+01   \n",
       "longitude                                     3.617564e-02  4.753510e+00   \n",
       "accommodates                                  1.464789e+00  0.000000e+00   \n",
       "bathrooms                                              NaN           NaN   \n",
       "bedrooms                                      9.168111e-01  1.000000e+00   \n",
       "beds                                          1.640881e+00  1.000000e+00   \n",
       "price                                         1.806586e+02  0.000000e+00   \n",
       "minimum_nights                                2.245592e+01  1.000000e+00   \n",
       "maximum_nights                                5.259252e+02  1.000000e+00   \n",
       "minimum_minimum_nights                        2.245493e+01  1.000000e+00   \n",
       "maximum_minimum_nights                        2.269528e+01  1.000000e+00   \n",
       "minimum_maximum_nights                        5.243284e+02  1.000000e+00   \n",
       "maximum_maximum_nights                        3.327132e+07  1.000000e+00   \n",
       "minimum_nights_avg_ntm                        2.251351e+01  1.000000e+00   \n",
       "maximum_nights_avg_ntm                        3.319605e+07  1.000000e+00   \n",
       "calendar_updated                                       NaN           NaN   \n",
       "availability_30                               9.553871e+00  0.000000e+00   \n",
       "availability_60                               2.084260e+01  0.000000e+00   \n",
       "availability_90                               3.273095e+01  0.000000e+00   \n",
       "availability_365                              1.291552e+02  0.000000e+00   \n",
       "number_of_reviews                             8.933245e+01  0.000000e+00   \n",
       "number_of_reviews_ltm                         1.956165e+01  0.000000e+00   \n",
       "number_of_reviews_l30d                        2.331628e+00  0.000000e+00   \n",
       "review_scores_rating                          3.512184e-01  0.000000e+00   \n",
       "review_scores_accuracy                        2.636410e-01  1.000000e+00   \n",
       "review_scores_cleanliness                     3.293391e-01  1.000000e+00   \n",
       "review_scores_checkin                         2.537162e-01  1.000000e+00   \n",
       "review_scores_communication                   2.589936e-01  1.000000e+00   \n",
       "review_scores_location                        2.494620e-01  1.000000e+00   \n",
       "review_scores_value                           3.083659e-01  1.000000e+00   \n",
       "calculated_host_listings_count                3.094729e+00  1.000000e+00   \n",
       "calculated_host_listings_count_entire_homes   1.913322e+00  0.000000e+00   \n",
       "calculated_host_listings_count_private_rooms  2.325021e+00  0.000000e+00   \n",
       "calculated_host_listings_count_shared_rooms   2.077804e-01  0.000000e+00   \n",
       "reviews_per_month                             2.816455e+00  1.000000e-02   \n",
       "\n",
       "                                                       25%           50%  \\\n",
       "id                                            1.041500e+03  2.083000e+03   \n",
       "scrape_id                                     2.021121e+13  2.021121e+13   \n",
       "host_id                                       9.002030e+06  3.133220e+07   \n",
       "host_listings_count                           1.000000e+00  1.000000e+00   \n",
       "host_total_listings_count                     1.000000e+00  1.000000e+00   \n",
       "neighbourhood_group_cleansed                           NaN           NaN   \n",
       "latitude                                      5.235666e+01  5.236659e+01   \n",
       "longitude                                     4.869430e+00  4.888790e+00   \n",
       "accommodates                                  2.000000e+00  2.000000e+00   \n",
       "bathrooms                                              NaN           NaN   \n",
       "bedrooms                                      1.000000e+00  1.000000e+00   \n",
       "beds                                          1.000000e+00  1.000000e+00   \n",
       "price                                         9.800000e+01  1.380000e+02   \n",
       "minimum_nights                                2.000000e+00  2.000000e+00   \n",
       "maximum_nights                                2.500000e+01  3.650000e+02   \n",
       "minimum_minimum_nights                        2.000000e+00  2.000000e+00   \n",
       "maximum_minimum_nights                        2.000000e+00  3.000000e+00   \n",
       "minimum_maximum_nights                        3.000000e+01  1.125000e+03   \n",
       "maximum_maximum_nights                        3.000000e+01  1.125000e+03   \n",
       "minimum_nights_avg_ntm                        2.000000e+00  2.100000e+00   \n",
       "maximum_nights_avg_ntm                        3.000000e+01  1.125000e+03   \n",
       "calendar_updated                                       NaN           NaN   \n",
       "availability_30                               0.000000e+00  3.000000e+00   \n",
       "availability_60                               0.000000e+00  9.000000e+00   \n",
       "availability_90                               0.000000e+00  1.300000e+01   \n",
       "availability_365                              0.000000e+00  3.400000e+01   \n",
       "number_of_reviews                             5.000000e+00  1.700000e+01   \n",
       "number_of_reviews_ltm                         0.000000e+00  1.000000e+00   \n",
       "number_of_reviews_l30d                        0.000000e+00  0.000000e+00   \n",
       "review_scores_rating                          4.730000e+00  4.880000e+00   \n",
       "review_scores_accuracy                        4.780000e+00  4.910000e+00   \n",
       "review_scores_cleanliness                     4.670000e+00  4.850000e+00   \n",
       "review_scores_checkin                         4.852500e+00  4.950000e+00   \n",
       "review_scores_communication                   4.870000e+00  4.960000e+00   \n",
       "review_scores_location                        4.670000e+00  4.845000e+00   \n",
       "review_scores_value                           4.530000e+00  4.690000e+00   \n",
       "calculated_host_listings_count                1.000000e+00  1.000000e+00   \n",
       "calculated_host_listings_count_entire_homes   0.000000e+00  1.000000e+00   \n",
       "calculated_host_listings_count_private_rooms  0.000000e+00  0.000000e+00   \n",
       "calculated_host_listings_count_shared_rooms   0.000000e+00  0.000000e+00   \n",
       "reviews_per_month                             3.100000e-01  6.800000e-01   \n",
       "\n",
       "                                                       75%           max  \n",
       "id                                            3.124500e+03  4.166000e+03  \n",
       "scrape_id                                     2.021121e+13  2.021121e+13  \n",
       "host_id                                       1.354875e+08  4.346341e+08  \n",
       "host_listings_count                           2.000000e+00  7.180000e+02  \n",
       "host_total_listings_count                     2.000000e+00  7.180000e+02  \n",
       "neighbourhood_group_cleansed                           NaN           NaN  \n",
       "latitude                                      5.237655e+01  5.242476e+01  \n",
       "longitude                                     4.908985e+00  5.026430e+00  \n",
       "accommodates                                  4.000000e+00  1.600000e+01  \n",
       "bathrooms                                              NaN           NaN  \n",
       "bedrooms                                      2.000000e+00  1.000000e+01  \n",
       "beds                                          2.000000e+00  3.300000e+01  \n",
       "price                                         2.000000e+02  6.477000e+03  \n",
       "minimum_nights                                3.000000e+00  1.001000e+03  \n",
       "maximum_nights                                1.125000e+03  1.825000e+03  \n",
       "minimum_minimum_nights                        3.000000e+00  1.001000e+03  \n",
       "maximum_minimum_nights                        4.000000e+00  1.001000e+03  \n",
       "minimum_maximum_nights                        1.125000e+03  1.825000e+03  \n",
       "maximum_maximum_nights                        1.125000e+03  2.147484e+09  \n",
       "minimum_nights_avg_ntm                        3.000000e+00  1.001000e+03  \n",
       "maximum_nights_avg_ntm                        1.125000e+03  2.142625e+09  \n",
       "calendar_updated                                       NaN           NaN  \n",
       "availability_30                               1.500000e+01  3.000000e+01  \n",
       "availability_60                               3.600000e+01  6.000000e+01  \n",
       "availability_90                               6.300000e+01  9.000000e+01  \n",
       "availability_365                              2.085000e+02  3.650000e+02  \n",
       "number_of_reviews                             4.700000e+01  9.010000e+02  \n",
       "number_of_reviews_ltm                         6.000000e+00  5.970000e+02  \n",
       "number_of_reviews_l30d                        1.000000e+00  6.100000e+01  \n",
       "review_scores_rating                          5.000000e+00  5.000000e+00  \n",
       "review_scores_accuracy                        5.000000e+00  5.000000e+00  \n",
       "review_scores_cleanliness                     4.970000e+00  5.000000e+00  \n",
       "review_scores_checkin                         5.000000e+00  5.000000e+00  \n",
       "review_scores_communication                   5.000000e+00  5.000000e+00  \n",
       "review_scores_location                        4.970000e+00  5.000000e+00  \n",
       "review_scores_value                           4.810000e+00  5.000000e+00  \n",
       "calculated_host_listings_count                2.000000e+00  2.200000e+01  \n",
       "calculated_host_listings_count_entire_homes   1.000000e+00  2.200000e+01  \n",
       "calculated_host_listings_count_private_rooms  1.000000e+00  2.100000e+01  \n",
       "calculated_host_listings_count_shared_rooms   0.000000e+00  4.000000e+00  \n",
       "reviews_per_month                             1.700000e+00  9.589000e+01  "
      ]
     },
     "execution_count": 9,
     "metadata": {},
     "output_type": "execute_result"
    }
   ],
   "source": [
    "train.describe().T"
   ]
  },
  {
   "cell_type": "code",
   "execution_count": 11,
   "id": "b03cac3d",
   "metadata": {},
   "outputs": [
    {
     "data": {
      "text/html": [
       "<div>\n",
       "<style scoped>\n",
       "    .dataframe tbody tr th:only-of-type {\n",
       "        vertical-align: middle;\n",
       "    }\n",
       "\n",
       "    .dataframe tbody tr th {\n",
       "        vertical-align: top;\n",
       "    }\n",
       "\n",
       "    .dataframe thead th {\n",
       "        text-align: right;\n",
       "    }\n",
       "</style>\n",
       "<table border=\"1\" class=\"dataframe\">\n",
       "  <thead>\n",
       "    <tr style=\"text-align: right;\">\n",
       "      <th></th>\n",
       "      <th>id</th>\n",
       "      <th>listing_url</th>\n",
       "      <th>scrape_id</th>\n",
       "      <th>last_scraped</th>\n",
       "      <th>name</th>\n",
       "      <th>description</th>\n",
       "      <th>neighborhood_overview</th>\n",
       "      <th>picture_url</th>\n",
       "      <th>host_id</th>\n",
       "      <th>host_url</th>\n",
       "      <th>host_name</th>\n",
       "      <th>host_since</th>\n",
       "      <th>host_location</th>\n",
       "      <th>host_about</th>\n",
       "      <th>host_response_time</th>\n",
       "      <th>host_response_rate</th>\n",
       "      <th>host_acceptance_rate</th>\n",
       "      <th>host_is_superhost</th>\n",
       "      <th>host_thumbnail_url</th>\n",
       "      <th>host_picture_url</th>\n",
       "      <th>host_neighbourhood</th>\n",
       "      <th>host_listings_count</th>\n",
       "      <th>host_total_listings_count</th>\n",
       "      <th>host_verifications</th>\n",
       "      <th>host_has_profile_pic</th>\n",
       "      <th>host_identity_verified</th>\n",
       "      <th>neighbourhood</th>\n",
       "      <th>neighbourhood_cleansed</th>\n",
       "      <th>neighbourhood_group_cleansed</th>\n",
       "      <th>latitude</th>\n",
       "      <th>longitude</th>\n",
       "      <th>property_type</th>\n",
       "      <th>room_type</th>\n",
       "      <th>accommodates</th>\n",
       "      <th>bathrooms</th>\n",
       "      <th>bathrooms_text</th>\n",
       "      <th>bedrooms</th>\n",
       "      <th>beds</th>\n",
       "      <th>amenities</th>\n",
       "      <th>price</th>\n",
       "      <th>minimum_nights</th>\n",
       "      <th>maximum_nights</th>\n",
       "      <th>minimum_minimum_nights</th>\n",
       "      <th>maximum_minimum_nights</th>\n",
       "      <th>minimum_maximum_nights</th>\n",
       "      <th>maximum_maximum_nights</th>\n",
       "      <th>minimum_nights_avg_ntm</th>\n",
       "      <th>maximum_nights_avg_ntm</th>\n",
       "      <th>calendar_updated</th>\n",
       "      <th>has_availability</th>\n",
       "      <th>availability_30</th>\n",
       "      <th>availability_60</th>\n",
       "      <th>availability_90</th>\n",
       "      <th>availability_365</th>\n",
       "      <th>calendar_last_scraped</th>\n",
       "      <th>number_of_reviews</th>\n",
       "      <th>number_of_reviews_ltm</th>\n",
       "      <th>number_of_reviews_l30d</th>\n",
       "      <th>first_review</th>\n",
       "      <th>last_review</th>\n",
       "      <th>review_scores_rating</th>\n",
       "      <th>review_scores_accuracy</th>\n",
       "      <th>review_scores_cleanliness</th>\n",
       "      <th>review_scores_checkin</th>\n",
       "      <th>review_scores_communication</th>\n",
       "      <th>review_scores_location</th>\n",
       "      <th>review_scores_value</th>\n",
       "      <th>license</th>\n",
       "      <th>instant_bookable</th>\n",
       "      <th>calculated_host_listings_count</th>\n",
       "      <th>calculated_host_listings_count_entire_homes</th>\n",
       "      <th>calculated_host_listings_count_private_rooms</th>\n",
       "      <th>calculated_host_listings_count_shared_rooms</th>\n",
       "      <th>reviews_per_month</th>\n",
       "    </tr>\n",
       "  </thead>\n",
       "  <tbody>\n",
       "    <tr>\n",
       "      <th>0</th>\n",
       "      <td>0</td>\n",
       "      <td>https://www.airbnb.com/rooms/2842228</td>\n",
       "      <td>20211205213126</td>\n",
       "      <td>2021-12-06</td>\n",
       "      <td>Your little appartment on wheels</td>\n",
       "      <td>A waggon luxurous designed as a hotel room on ...</td>\n",
       "      <td>Waterland is a beautiful countryside area, wit...</td>\n",
       "      <td>https://a0.muscache.com/pictures/cc2aa51a-3c11...</td>\n",
       "      <td>3040748</td>\n",
       "      <td>https://www.airbnb.com/users/show/3040748</td>\n",
       "      <td>Henk</td>\n",
       "      <td>2012-07-24</td>\n",
       "      <td>Amsterdam, North Holland, The Netherlands</td>\n",
       "      <td>Living in the countryside, just near Amsterdam...</td>\n",
       "      <td>within a few hours</td>\n",
       "      <td>100%</td>\n",
       "      <td>75%</td>\n",
       "      <td>f</td>\n",
       "      <td>https://a0.muscache.com/im/users/3040748/profi...</td>\n",
       "      <td>https://a0.muscache.com/im/users/3040748/profi...</td>\n",
       "      <td>NaN</td>\n",
       "      <td>13</td>\n",
       "      <td>13</td>\n",
       "      <td>['email', 'phone', 'reviews', 'jumio', 'offlin...</td>\n",
       "      <td>t</td>\n",
       "      <td>t</td>\n",
       "      <td>Amsterdam, North Holland, Netherlands</td>\n",
       "      <td>Noord-Oost</td>\n",
       "      <td>NaN</td>\n",
       "      <td>52.39508</td>\n",
       "      <td>4.99186</td>\n",
       "      <td>Private room in farm stay</td>\n",
       "      <td>Private room</td>\n",
       "      <td>3</td>\n",
       "      <td>NaN</td>\n",
       "      <td>1.5 shared baths</td>\n",
       "      <td>1.0</td>\n",
       "      <td>NaN</td>\n",
       "      <td>[\"First aid kit\", \"Free parking on premises\", ...</td>\n",
       "      <td>87.0</td>\n",
       "      <td>2</td>\n",
       "      <td>1125</td>\n",
       "      <td>2.0</td>\n",
       "      <td>2.0</td>\n",
       "      <td>1125.0</td>\n",
       "      <td>1125.0</td>\n",
       "      <td>2.0</td>\n",
       "      <td>1125.0</td>\n",
       "      <td>NaN</td>\n",
       "      <td>t</td>\n",
       "      <td>0</td>\n",
       "      <td>0</td>\n",
       "      <td>0</td>\n",
       "      <td>249</td>\n",
       "      <td>2021-12-06</td>\n",
       "      <td>81</td>\n",
       "      <td>0</td>\n",
       "      <td>0</td>\n",
       "      <td>2014-08-03</td>\n",
       "      <td>2019-06-15</td>\n",
       "      <td>4.62</td>\n",
       "      <td>4.56</td>\n",
       "      <td>4.29</td>\n",
       "      <td>4.57</td>\n",
       "      <td>4.75</td>\n",
       "      <td>4.69</td>\n",
       "      <td>4.49</td>\n",
       "      <td>0363 2A6D 7C09 877D 715F</td>\n",
       "      <td>f</td>\n",
       "      <td>10</td>\n",
       "      <td>0</td>\n",
       "      <td>10</td>\n",
       "      <td>0</td>\n",
       "      <td>0.91</td>\n",
       "    </tr>\n",
       "    <tr>\n",
       "      <th>1</th>\n",
       "      <td>1</td>\n",
       "      <td>https://www.airbnb.com/rooms/41236669</td>\n",
       "      <td>20211205213126</td>\n",
       "      <td>2021-12-06</td>\n",
       "      <td>Spacious 4p city center apartment (2 bedrooms!)</td>\n",
       "      <td>Are you looking for a perfect place to stay in...</td>\n",
       "      <td>Our home is located in the Plantagebuurt. A un...</td>\n",
       "      <td>https://a0.muscache.com/pictures/5f33bf5a-399c...</td>\n",
       "      <td>34773624</td>\n",
       "      <td>https://www.airbnb.com/users/show/34773624</td>\n",
       "      <td>Julie</td>\n",
       "      <td>2015-06-01</td>\n",
       "      <td>Amsterdam, Noord-Holland, Netherlands</td>\n",
       "      <td>NaN</td>\n",
       "      <td>NaN</td>\n",
       "      <td>NaN</td>\n",
       "      <td>NaN</td>\n",
       "      <td>f</td>\n",
       "      <td>https://a0.muscache.com/im/pictures/user/a5da3...</td>\n",
       "      <td>https://a0.muscache.com/im/pictures/user/a5da3...</td>\n",
       "      <td>Weesperbuurt en Plantage</td>\n",
       "      <td>0</td>\n",
       "      <td>0</td>\n",
       "      <td>['email', 'phone', 'reviews']</td>\n",
       "      <td>t</td>\n",
       "      <td>f</td>\n",
       "      <td>Amsterdam, Noord-Holland, Netherlands</td>\n",
       "      <td>Centrum-Oost</td>\n",
       "      <td>NaN</td>\n",
       "      <td>52.36371</td>\n",
       "      <td>4.90745</td>\n",
       "      <td>Entire rental unit</td>\n",
       "      <td>Entire home/apt</td>\n",
       "      <td>4</td>\n",
       "      <td>NaN</td>\n",
       "      <td>1 bath</td>\n",
       "      <td>2.0</td>\n",
       "      <td>2.0</td>\n",
       "      <td>[\"Hot water kettle\", \"Pocket wifi\", \"Stove\", \"...</td>\n",
       "      <td>250.0</td>\n",
       "      <td>2</td>\n",
       "      <td>1125</td>\n",
       "      <td>2.0</td>\n",
       "      <td>2.0</td>\n",
       "      <td>1125.0</td>\n",
       "      <td>1125.0</td>\n",
       "      <td>2.0</td>\n",
       "      <td>1125.0</td>\n",
       "      <td>NaN</td>\n",
       "      <td>t</td>\n",
       "      <td>3</td>\n",
       "      <td>3</td>\n",
       "      <td>3</td>\n",
       "      <td>3</td>\n",
       "      <td>2021-12-06</td>\n",
       "      <td>9</td>\n",
       "      <td>4</td>\n",
       "      <td>1</td>\n",
       "      <td>2020-01-26</td>\n",
       "      <td>2021-09-05</td>\n",
       "      <td>5.00</td>\n",
       "      <td>5.00</td>\n",
       "      <td>5.00</td>\n",
       "      <td>4.89</td>\n",
       "      <td>5.00</td>\n",
       "      <td>5.00</td>\n",
       "      <td>4.89</td>\n",
       "      <td>0363 BD0E 9934 ACCA D3DE</td>\n",
       "      <td>f</td>\n",
       "      <td>1</td>\n",
       "      <td>1</td>\n",
       "      <td>0</td>\n",
       "      <td>0</td>\n",
       "      <td>0.40</td>\n",
       "    </tr>\n",
       "    <tr>\n",
       "      <th>2</th>\n",
       "      <td>2</td>\n",
       "      <td>https://www.airbnb.com/rooms/27240740</td>\n",
       "      <td>20211205213126</td>\n",
       "      <td>2021-12-06</td>\n",
       "      <td>SWEETS hotel Theophile de Bockbrug</td>\n",
       "      <td>Comfortable bridge house on the doorstep of Am...</td>\n",
       "      <td>The neighbourhood has a quiet, village-like fe...</td>\n",
       "      <td>https://a0.muscache.com/pictures/b1145dd1-e485...</td>\n",
       "      <td>203731852</td>\n",
       "      <td>https://www.airbnb.com/users/show/203731852</td>\n",
       "      <td>SWEETS Hotel</td>\n",
       "      <td>2018-07-20</td>\n",
       "      <td>Wassenaar, South Holland, Netherlands</td>\n",
       "      <td>SWEETS hotel is a one-of-a-kind hotel located ...</td>\n",
       "      <td>within an hour</td>\n",
       "      <td>100%</td>\n",
       "      <td>97%</td>\n",
       "      <td>t</td>\n",
       "      <td>https://a0.muscache.com/im/pictures/user/492cd...</td>\n",
       "      <td>https://a0.muscache.com/im/pictures/user/492cd...</td>\n",
       "      <td>Hoofddorppleinbuurt</td>\n",
       "      <td>20</td>\n",
       "      <td>20</td>\n",
       "      <td>['email', 'phone']</td>\n",
       "      <td>t</td>\n",
       "      <td>t</td>\n",
       "      <td>Amsterdam, Noord-Holland, Netherlands</td>\n",
       "      <td>Zuid</td>\n",
       "      <td>NaN</td>\n",
       "      <td>52.35482</td>\n",
       "      <td>4.85329</td>\n",
       "      <td>Room in serviced apartment</td>\n",
       "      <td>Hotel room</td>\n",
       "      <td>2</td>\n",
       "      <td>NaN</td>\n",
       "      <td>1 private bath</td>\n",
       "      <td>1.0</td>\n",
       "      <td>1.0</td>\n",
       "      <td>[\"Air conditioning\", \"First aid kit\", \"Hangers...</td>\n",
       "      <td>151.0</td>\n",
       "      <td>1</td>\n",
       "      <td>1125</td>\n",
       "      <td>1.0</td>\n",
       "      <td>1.0</td>\n",
       "      <td>99.0</td>\n",
       "      <td>99.0</td>\n",
       "      <td>1.0</td>\n",
       "      <td>99.0</td>\n",
       "      <td>NaN</td>\n",
       "      <td>t</td>\n",
       "      <td>25</td>\n",
       "      <td>55</td>\n",
       "      <td>85</td>\n",
       "      <td>267</td>\n",
       "      <td>2021-12-06</td>\n",
       "      <td>47</td>\n",
       "      <td>3</td>\n",
       "      <td>1</td>\n",
       "      <td>2018-11-09</td>\n",
       "      <td>2020-03-07</td>\n",
       "      <td>4.79</td>\n",
       "      <td>4.83</td>\n",
       "      <td>4.91</td>\n",
       "      <td>4.62</td>\n",
       "      <td>4.87</td>\n",
       "      <td>4.87</td>\n",
       "      <td>4.40</td>\n",
       "      <td>Exempt</td>\n",
       "      <td>t</td>\n",
       "      <td>20</td>\n",
       "      <td>4</td>\n",
       "      <td>0</td>\n",
       "      <td>0</td>\n",
       "      <td>1.25</td>\n",
       "    </tr>\n",
       "    <tr>\n",
       "      <th>3</th>\n",
       "      <td>3</td>\n",
       "      <td>https://www.airbnb.com/rooms/33326302</td>\n",
       "      <td>20211205213126</td>\n",
       "      <td>2021-12-05</td>\n",
       "      <td>Lovely home near Vondelpark: great for couples!</td>\n",
       "      <td>In het gezellige Amsterdamse Oud-West, vind je...</td>\n",
       "      <td>Oud-West is een van de gezelligste wijken in A...</td>\n",
       "      <td>https://a0.muscache.com/pictures/75f8ae17-eeb8...</td>\n",
       "      <td>68783888</td>\n",
       "      <td>https://www.airbnb.com/users/show/68783888</td>\n",
       "      <td>Lotte</td>\n",
       "      <td>2016-04-25</td>\n",
       "      <td>Amsterdam, North Holland, Netherlands</td>\n",
       "      <td>NaN</td>\n",
       "      <td>within an hour</td>\n",
       "      <td>100%</td>\n",
       "      <td>67%</td>\n",
       "      <td>f</td>\n",
       "      <td>https://a0.muscache.com/im/pictures/user/a4d0e...</td>\n",
       "      <td>https://a0.muscache.com/im/pictures/user/a4d0e...</td>\n",
       "      <td>Oud-West</td>\n",
       "      <td>1</td>\n",
       "      <td>1</td>\n",
       "      <td>['email', 'phone', 'facebook']</td>\n",
       "      <td>t</td>\n",
       "      <td>f</td>\n",
       "      <td>Amsterdam, Noord-Holland, Netherlands</td>\n",
       "      <td>De Baarsjes - Oud-West</td>\n",
       "      <td>NaN</td>\n",
       "      <td>52.36446</td>\n",
       "      <td>4.85972</td>\n",
       "      <td>Entire rental unit</td>\n",
       "      <td>Entire home/apt</td>\n",
       "      <td>2</td>\n",
       "      <td>NaN</td>\n",
       "      <td>1.5 baths</td>\n",
       "      <td>1.0</td>\n",
       "      <td>1.0</td>\n",
       "      <td>[\"Hair dryer\", \"Stove\", \"Dishes and silverware...</td>\n",
       "      <td>139.0</td>\n",
       "      <td>2</td>\n",
       "      <td>30</td>\n",
       "      <td>2.0</td>\n",
       "      <td>2.0</td>\n",
       "      <td>1125.0</td>\n",
       "      <td>1125.0</td>\n",
       "      <td>2.0</td>\n",
       "      <td>1125.0</td>\n",
       "      <td>NaN</td>\n",
       "      <td>t</td>\n",
       "      <td>0</td>\n",
       "      <td>0</td>\n",
       "      <td>0</td>\n",
       "      <td>0</td>\n",
       "      <td>2021-12-05</td>\n",
       "      <td>10</td>\n",
       "      <td>3</td>\n",
       "      <td>0</td>\n",
       "      <td>2019-04-22</td>\n",
       "      <td>2019-11-10</td>\n",
       "      <td>5.00</td>\n",
       "      <td>5.00</td>\n",
       "      <td>4.80</td>\n",
       "      <td>5.00</td>\n",
       "      <td>5.00</td>\n",
       "      <td>4.90</td>\n",
       "      <td>4.70</td>\n",
       "      <td>0363 7E52 3D3D 6AB1 3C72</td>\n",
       "      <td>f</td>\n",
       "      <td>1</td>\n",
       "      <td>1</td>\n",
       "      <td>0</td>\n",
       "      <td>0</td>\n",
       "      <td>0.31</td>\n",
       "    </tr>\n",
       "    <tr>\n",
       "      <th>4</th>\n",
       "      <td>4</td>\n",
       "      <td>https://www.airbnb.com/rooms/969862</td>\n",
       "      <td>20211205213126</td>\n",
       "      <td>2021-12-06</td>\n",
       "      <td>Living in a houseboat on the water</td>\n",
       "      <td>&lt;b&gt;The space&lt;/b&gt;&lt;br /&gt;The apartment is a part ...</td>\n",
       "      <td>NaN</td>\n",
       "      <td>https://a0.muscache.com/pictures/miso/Hosting-...</td>\n",
       "      <td>5297940</td>\n",
       "      <td>https://www.airbnb.com/users/show/5297940</td>\n",
       "      <td>Helga</td>\n",
       "      <td>2013-03-03</td>\n",
       "      <td>Amsterdam, North Holland, The Netherlands</td>\n",
       "      <td>Helga had the Austrian nationality before she ...</td>\n",
       "      <td>within a few hours</td>\n",
       "      <td>100%</td>\n",
       "      <td>75%</td>\n",
       "      <td>t</td>\n",
       "      <td>https://a0.muscache.com/im/users/5297940/profi...</td>\n",
       "      <td>https://a0.muscache.com/im/users/5297940/profi...</td>\n",
       "      <td>Oud-Zuid</td>\n",
       "      <td>1</td>\n",
       "      <td>1</td>\n",
       "      <td>['email', 'phone', 'reviews', 'manual_offline'...</td>\n",
       "      <td>t</td>\n",
       "      <td>t</td>\n",
       "      <td>NaN</td>\n",
       "      <td>Zuid</td>\n",
       "      <td>NaN</td>\n",
       "      <td>52.34176</td>\n",
       "      <td>4.84782</td>\n",
       "      <td>Private room in rental unit</td>\n",
       "      <td>Private room</td>\n",
       "      <td>2</td>\n",
       "      <td>NaN</td>\n",
       "      <td>1.5 baths</td>\n",
       "      <td>1.0</td>\n",
       "      <td>2.0</td>\n",
       "      <td>[\"Hair dryer\", \"Dishes and silverware\", \"Ether...</td>\n",
       "      <td>95.0</td>\n",
       "      <td>2</td>\n",
       "      <td>7</td>\n",
       "      <td>2.0</td>\n",
       "      <td>2.0</td>\n",
       "      <td>7.0</td>\n",
       "      <td>7.0</td>\n",
       "      <td>2.0</td>\n",
       "      <td>7.0</td>\n",
       "      <td>NaN</td>\n",
       "      <td>t</td>\n",
       "      <td>18</td>\n",
       "      <td>48</td>\n",
       "      <td>78</td>\n",
       "      <td>349</td>\n",
       "      <td>2021-12-06</td>\n",
       "      <td>166</td>\n",
       "      <td>1</td>\n",
       "      <td>0</td>\n",
       "      <td>2014-04-08</td>\n",
       "      <td>2019-08-26</td>\n",
       "      <td>4.67</td>\n",
       "      <td>4.76</td>\n",
       "      <td>4.81</td>\n",
       "      <td>4.95</td>\n",
       "      <td>4.89</td>\n",
       "      <td>4.49</td>\n",
       "      <td>4.57</td>\n",
       "      <td>0363 77F9 4DBC 2E88 41C2</td>\n",
       "      <td>f</td>\n",
       "      <td>1</td>\n",
       "      <td>0</td>\n",
       "      <td>1</td>\n",
       "      <td>0</td>\n",
       "      <td>1.78</td>\n",
       "    </tr>\n",
       "  </tbody>\n",
       "</table>\n",
       "</div>"
      ],
      "text/plain": [
       "   id                            listing_url       scrape_id last_scraped  \\\n",
       "0   0   https://www.airbnb.com/rooms/2842228  20211205213126   2021-12-06   \n",
       "1   1  https://www.airbnb.com/rooms/41236669  20211205213126   2021-12-06   \n",
       "2   2  https://www.airbnb.com/rooms/27240740  20211205213126   2021-12-06   \n",
       "3   3  https://www.airbnb.com/rooms/33326302  20211205213126   2021-12-05   \n",
       "4   4    https://www.airbnb.com/rooms/969862  20211205213126   2021-12-06   \n",
       "\n",
       "                                              name  \\\n",
       "0                 Your little appartment on wheels   \n",
       "1  Spacious 4p city center apartment (2 bedrooms!)   \n",
       "2               SWEETS hotel Theophile de Bockbrug   \n",
       "3  Lovely home near Vondelpark: great for couples!   \n",
       "4               Living in a houseboat on the water   \n",
       "\n",
       "                                         description  \\\n",
       "0  A waggon luxurous designed as a hotel room on ...   \n",
       "1  Are you looking for a perfect place to stay in...   \n",
       "2  Comfortable bridge house on the doorstep of Am...   \n",
       "3  In het gezellige Amsterdamse Oud-West, vind je...   \n",
       "4  <b>The space</b><br />The apartment is a part ...   \n",
       "\n",
       "                               neighborhood_overview  \\\n",
       "0  Waterland is a beautiful countryside area, wit...   \n",
       "1  Our home is located in the Plantagebuurt. A un...   \n",
       "2  The neighbourhood has a quiet, village-like fe...   \n",
       "3  Oud-West is een van de gezelligste wijken in A...   \n",
       "4                                                NaN   \n",
       "\n",
       "                                         picture_url    host_id  \\\n",
       "0  https://a0.muscache.com/pictures/cc2aa51a-3c11...    3040748   \n",
       "1  https://a0.muscache.com/pictures/5f33bf5a-399c...   34773624   \n",
       "2  https://a0.muscache.com/pictures/b1145dd1-e485...  203731852   \n",
       "3  https://a0.muscache.com/pictures/75f8ae17-eeb8...   68783888   \n",
       "4  https://a0.muscache.com/pictures/miso/Hosting-...    5297940   \n",
       "\n",
       "                                      host_url     host_name  host_since  \\\n",
       "0    https://www.airbnb.com/users/show/3040748          Henk  2012-07-24   \n",
       "1   https://www.airbnb.com/users/show/34773624         Julie  2015-06-01   \n",
       "2  https://www.airbnb.com/users/show/203731852  SWEETS Hotel  2018-07-20   \n",
       "3   https://www.airbnb.com/users/show/68783888         Lotte  2016-04-25   \n",
       "4    https://www.airbnb.com/users/show/5297940         Helga  2013-03-03   \n",
       "\n",
       "                               host_location  \\\n",
       "0  Amsterdam, North Holland, The Netherlands   \n",
       "1      Amsterdam, Noord-Holland, Netherlands   \n",
       "2      Wassenaar, South Holland, Netherlands   \n",
       "3      Amsterdam, North Holland, Netherlands   \n",
       "4  Amsterdam, North Holland, The Netherlands   \n",
       "\n",
       "                                          host_about  host_response_time  \\\n",
       "0  Living in the countryside, just near Amsterdam...  within a few hours   \n",
       "1                                                NaN                 NaN   \n",
       "2  SWEETS hotel is a one-of-a-kind hotel located ...      within an hour   \n",
       "3                                                NaN      within an hour   \n",
       "4  Helga had the Austrian nationality before she ...  within a few hours   \n",
       "\n",
       "  host_response_rate host_acceptance_rate host_is_superhost  \\\n",
       "0               100%                  75%                 f   \n",
       "1                NaN                  NaN                 f   \n",
       "2               100%                  97%                 t   \n",
       "3               100%                  67%                 f   \n",
       "4               100%                  75%                 t   \n",
       "\n",
       "                                  host_thumbnail_url  \\\n",
       "0  https://a0.muscache.com/im/users/3040748/profi...   \n",
       "1  https://a0.muscache.com/im/pictures/user/a5da3...   \n",
       "2  https://a0.muscache.com/im/pictures/user/492cd...   \n",
       "3  https://a0.muscache.com/im/pictures/user/a4d0e...   \n",
       "4  https://a0.muscache.com/im/users/5297940/profi...   \n",
       "\n",
       "                                    host_picture_url  \\\n",
       "0  https://a0.muscache.com/im/users/3040748/profi...   \n",
       "1  https://a0.muscache.com/im/pictures/user/a5da3...   \n",
       "2  https://a0.muscache.com/im/pictures/user/492cd...   \n",
       "3  https://a0.muscache.com/im/pictures/user/a4d0e...   \n",
       "4  https://a0.muscache.com/im/users/5297940/profi...   \n",
       "\n",
       "         host_neighbourhood  host_listings_count  host_total_listings_count  \\\n",
       "0                       NaN                   13                         13   \n",
       "1  Weesperbuurt en Plantage                    0                          0   \n",
       "2       Hoofddorppleinbuurt                   20                         20   \n",
       "3                  Oud-West                    1                          1   \n",
       "4                  Oud-Zuid                    1                          1   \n",
       "\n",
       "                                  host_verifications host_has_profile_pic  \\\n",
       "0  ['email', 'phone', 'reviews', 'jumio', 'offlin...                    t   \n",
       "1                      ['email', 'phone', 'reviews']                    t   \n",
       "2                                 ['email', 'phone']                    t   \n",
       "3                     ['email', 'phone', 'facebook']                    t   \n",
       "4  ['email', 'phone', 'reviews', 'manual_offline'...                    t   \n",
       "\n",
       "  host_identity_verified                          neighbourhood  \\\n",
       "0                      t  Amsterdam, North Holland, Netherlands   \n",
       "1                      f  Amsterdam, Noord-Holland, Netherlands   \n",
       "2                      t  Amsterdam, Noord-Holland, Netherlands   \n",
       "3                      f  Amsterdam, Noord-Holland, Netherlands   \n",
       "4                      t                                    NaN   \n",
       "\n",
       "   neighbourhood_cleansed  neighbourhood_group_cleansed  latitude  longitude  \\\n",
       "0              Noord-Oost                           NaN  52.39508    4.99186   \n",
       "1            Centrum-Oost                           NaN  52.36371    4.90745   \n",
       "2                    Zuid                           NaN  52.35482    4.85329   \n",
       "3  De Baarsjes - Oud-West                           NaN  52.36446    4.85972   \n",
       "4                    Zuid                           NaN  52.34176    4.84782   \n",
       "\n",
       "                 property_type        room_type  accommodates  bathrooms  \\\n",
       "0    Private room in farm stay     Private room             3        NaN   \n",
       "1           Entire rental unit  Entire home/apt             4        NaN   \n",
       "2   Room in serviced apartment       Hotel room             2        NaN   \n",
       "3           Entire rental unit  Entire home/apt             2        NaN   \n",
       "4  Private room in rental unit     Private room             2        NaN   \n",
       "\n",
       "     bathrooms_text  bedrooms  beds  \\\n",
       "0  1.5 shared baths       1.0   NaN   \n",
       "1            1 bath       2.0   2.0   \n",
       "2    1 private bath       1.0   1.0   \n",
       "3         1.5 baths       1.0   1.0   \n",
       "4         1.5 baths       1.0   2.0   \n",
       "\n",
       "                                           amenities  price  minimum_nights  \\\n",
       "0  [\"First aid kit\", \"Free parking on premises\", ...   87.0               2   \n",
       "1  [\"Hot water kettle\", \"Pocket wifi\", \"Stove\", \"...  250.0               2   \n",
       "2  [\"Air conditioning\", \"First aid kit\", \"Hangers...  151.0               1   \n",
       "3  [\"Hair dryer\", \"Stove\", \"Dishes and silverware...  139.0               2   \n",
       "4  [\"Hair dryer\", \"Dishes and silverware\", \"Ether...   95.0               2   \n",
       "\n",
       "   maximum_nights  minimum_minimum_nights  maximum_minimum_nights  \\\n",
       "0            1125                     2.0                     2.0   \n",
       "1            1125                     2.0                     2.0   \n",
       "2            1125                     1.0                     1.0   \n",
       "3              30                     2.0                     2.0   \n",
       "4               7                     2.0                     2.0   \n",
       "\n",
       "   minimum_maximum_nights  maximum_maximum_nights  minimum_nights_avg_ntm  \\\n",
       "0                  1125.0                  1125.0                     2.0   \n",
       "1                  1125.0                  1125.0                     2.0   \n",
       "2                    99.0                    99.0                     1.0   \n",
       "3                  1125.0                  1125.0                     2.0   \n",
       "4                     7.0                     7.0                     2.0   \n",
       "\n",
       "   maximum_nights_avg_ntm  calendar_updated has_availability  availability_30  \\\n",
       "0                  1125.0               NaN                t                0   \n",
       "1                  1125.0               NaN                t                3   \n",
       "2                    99.0               NaN                t               25   \n",
       "3                  1125.0               NaN                t                0   \n",
       "4                     7.0               NaN                t               18   \n",
       "\n",
       "   availability_60  availability_90  availability_365 calendar_last_scraped  \\\n",
       "0                0                0               249            2021-12-06   \n",
       "1                3                3                 3            2021-12-06   \n",
       "2               55               85               267            2021-12-06   \n",
       "3                0                0                 0            2021-12-05   \n",
       "4               48               78               349            2021-12-06   \n",
       "\n",
       "   number_of_reviews  number_of_reviews_ltm  number_of_reviews_l30d  \\\n",
       "0                 81                      0                       0   \n",
       "1                  9                      4                       1   \n",
       "2                 47                      3                       1   \n",
       "3                 10                      3                       0   \n",
       "4                166                      1                       0   \n",
       "\n",
       "  first_review last_review  review_scores_rating  review_scores_accuracy  \\\n",
       "0   2014-08-03  2019-06-15                  4.62                    4.56   \n",
       "1   2020-01-26  2021-09-05                  5.00                    5.00   \n",
       "2   2018-11-09  2020-03-07                  4.79                    4.83   \n",
       "3   2019-04-22  2019-11-10                  5.00                    5.00   \n",
       "4   2014-04-08  2019-08-26                  4.67                    4.76   \n",
       "\n",
       "   review_scores_cleanliness  review_scores_checkin  \\\n",
       "0                       4.29                   4.57   \n",
       "1                       5.00                   4.89   \n",
       "2                       4.91                   4.62   \n",
       "3                       4.80                   5.00   \n",
       "4                       4.81                   4.95   \n",
       "\n",
       "   review_scores_communication  review_scores_location  review_scores_value  \\\n",
       "0                         4.75                    4.69                 4.49   \n",
       "1                         5.00                    5.00                 4.89   \n",
       "2                         4.87                    4.87                 4.40   \n",
       "3                         5.00                    4.90                 4.70   \n",
       "4                         4.89                    4.49                 4.57   \n",
       "\n",
       "                    license instant_bookable  calculated_host_listings_count  \\\n",
       "0  0363 2A6D 7C09 877D 715F                f                              10   \n",
       "1  0363 BD0E 9934 ACCA D3DE                f                               1   \n",
       "2                    Exempt                t                              20   \n",
       "3  0363 7E52 3D3D 6AB1 3C72                f                               1   \n",
       "4  0363 77F9 4DBC 2E88 41C2                f                               1   \n",
       "\n",
       "   calculated_host_listings_count_entire_homes  \\\n",
       "0                                            0   \n",
       "1                                            1   \n",
       "2                                            4   \n",
       "3                                            1   \n",
       "4                                            0   \n",
       "\n",
       "   calculated_host_listings_count_private_rooms  \\\n",
       "0                                            10   \n",
       "1                                             0   \n",
       "2                                             0   \n",
       "3                                             0   \n",
       "4                                             1   \n",
       "\n",
       "   calculated_host_listings_count_shared_rooms  reviews_per_month  \n",
       "0                                            0               0.91  \n",
       "1                                            0               0.40  \n",
       "2                                            0               1.25  \n",
       "3                                            0               0.31  \n",
       "4                                            0               1.78  "
      ]
     },
     "execution_count": 11,
     "metadata": {},
     "output_type": "execute_result"
    }
   ],
   "source": [
    "train.head()"
   ]
  },
  {
   "cell_type": "markdown",
   "id": "9b192fdc",
   "metadata": {},
   "source": [
    "Aquí ya vemos varias columnas que podemos eliminar directamente porque no tienen informacion para nada relevante"
   ]
  },
  {
   "cell_type": "code",
   "execution_count": 7,
   "id": "40fca63d",
   "metadata": {},
   "outputs": [
    {
     "data": {
      "text/plain": [
       "Index(['id', 'listing_url', 'scrape_id', 'last_scraped', 'name', 'description',\n",
       "       'neighborhood_overview', 'picture_url', 'host_id', 'host_url',\n",
       "       'host_name', 'host_since', 'host_location', 'host_about',\n",
       "       'host_response_time', 'host_response_rate', 'host_acceptance_rate',\n",
       "       'host_is_superhost', 'host_thumbnail_url', 'host_picture_url',\n",
       "       'host_neighbourhood', 'host_listings_count',\n",
       "       'host_total_listings_count', 'host_verifications',\n",
       "       'host_has_profile_pic', 'host_identity_verified', 'neighbourhood',\n",
       "       'neighbourhood_cleansed', 'neighbourhood_group_cleansed', 'latitude',\n",
       "       'longitude', 'property_type', 'room_type', 'accommodates', 'bathrooms',\n",
       "       'bathrooms_text', 'bedrooms', 'beds', 'amenities', 'price',\n",
       "       'minimum_nights', 'maximum_nights', 'minimum_minimum_nights',\n",
       "       'maximum_minimum_nights', 'minimum_maximum_nights',\n",
       "       'maximum_maximum_nights', 'minimum_nights_avg_ntm',\n",
       "       'maximum_nights_avg_ntm', 'calendar_updated', 'has_availability',\n",
       "       'availability_30', 'availability_60', 'availability_90',\n",
       "       'availability_365', 'calendar_last_scraped', 'number_of_reviews',\n",
       "       'number_of_reviews_ltm', 'number_of_reviews_l30d', 'first_review',\n",
       "       'last_review', 'review_scores_rating', 'review_scores_accuracy',\n",
       "       'review_scores_cleanliness', 'review_scores_checkin',\n",
       "       'review_scores_communication', 'review_scores_location',\n",
       "       'review_scores_value', 'license', 'instant_bookable',\n",
       "       'calculated_host_listings_count',\n",
       "       'calculated_host_listings_count_entire_homes',\n",
       "       'calculated_host_listings_count_private_rooms',\n",
       "       'calculated_host_listings_count_shared_rooms', 'reviews_per_month'],\n",
       "      dtype='object')"
      ]
     },
     "execution_count": 7,
     "metadata": {},
     "output_type": "execute_result"
    }
   ],
   "source": [
    "train.columns"
   ]
  },
  {
   "cell_type": "code",
   "execution_count": 12,
   "id": "c28ed475",
   "metadata": {},
   "outputs": [
    {
     "data": {
      "text/plain": [
       "(4167, 2)"
      ]
     },
     "execution_count": 12,
     "metadata": {},
     "output_type": "execute_result"
    }
   ],
   "source": [
    "compare = train[train['host_listings_count']== train['host_total_listings_count']]\n",
    "compare[['host_listings_count','host_total_listings_count']].shape\n",
    "#Las dos columnas son exactamente iguales, quitamos una"
   ]
  },
  {
   "cell_type": "code",
   "execution_count": 13,
   "id": "d7cf2f32",
   "metadata": {},
   "outputs": [
    {
     "name": "stdout",
     "output_type": "stream",
     "text": [
      "['Amsterdam, North Holland, Netherlands'\n",
      " 'Amsterdam, Noord-Holland, Netherlands' nan\n",
      " 'Amsterdam, North-Holland, Netherlands' 'Amsterdam, NH, Netherlands'\n",
      " 'Amsterdam, Netherlands' 'Netherlands'\n",
      " 'Ouder-Amstel, Noord-Holland, Netherlands'\n",
      " 'Amsterdam-Zuidoost, Noord-Holland, Netherlands'\n",
      " 'Amsterdam, Haarlemmerbuurt, Netherlands'\n",
      " 'Badhoevedorp, Noord-Holland, Netherlands'\n",
      " 'Amsterdam-Zuidoost, North Holland, Netherlands'\n",
      " 'Amsterdam, Frederiksstraat, Netherlands' 'Amsterdam, VX, Netherlands'\n",
      " 'Amsterdam, Noord- Holland, Netherlands'\n",
      " 'Amsterdam, The Netherlands, Netherlands'\n",
      " 'Amsterdam, Netherlands, Netherlands'\n",
      " 'Amsterdam Zuid-Oost, Noord-Holland, Netherlands'\n",
      " 'Amsterdam, Noord-Holland 6, Netherlands'\n",
      " 'Watergraafsmeer, North Holland, Netherlands'\n",
      " '1054 ZV, Noord-Holland, Netherlands'\n",
      " 'Jordaan, North Holland, Netherlands'\n",
      " 'Amsterdam, Nord Holland, Netherlands'\n",
      " 'Amstelveen, Noord-Holland, Netherlands'\n",
      " 'Amsterdam, Emmy andriessestraat, Netherlands'\n",
      " 'Landsmeer, Noord-Holland, Netherlands' 'Badhoevedorp, NH, Netherlands'\n",
      " 'Amsterdam , Noord-Holland, Netherlands' 'Amsterdam , Netherlands'\n",
      " 'Amsterdam, Noord Holland, Netherlands'\n",
      " 'Lijnden, Noord-Holland, Netherlands' 'Amsterdam, GD, Netherlands'\n",
      " 'Oostzaan, Noord-Holland, Netherlands'\n",
      " 'Central Amsterdam, Amsterdam, Netherlands'\n",
      " 'Duivendrecht, Noord-Holland, Netherlands'\n",
      " 'Amsterdam, Holland, Netherlands' '*, Amsterdam, Netherlands'\n",
      " 'Diemen, Noord-Holland, Netherlands' 'Amsterdam, DP, Netherlands'\n",
      " 'Amsterdam, GA, Netherlands'\n",
      " 'Amsterdam-Centrum, Noord-Holland, Netherlands'\n",
      " 'Zwanenburg, Noord-Holland, Netherlands']\n"
     ]
    }
   ],
   "source": [
    "train.neighbourhood.nunique()#-->41 barrios!\n",
    "print((train.neighbourhood.unique()))"
   ]
  },
  {
   "cell_type": "code",
   "execution_count": 19,
   "id": "d3626318",
   "metadata": {},
   "outputs": [
    {
     "data": {
      "image/png": "[encoded data removed]",
      "text/plain": [
       "<Figure size 1152x1152 with 2 Axes>"
      ]
     },
     "metadata": {
      "needs_background": "light"
     },
     "output_type": "display_data"
    }
   ],
   "source": [
    "plt.figure(figsize=(16,16)) \n",
    "corrMatrix = train.corr()\n",
    "sns.heatmap(corrMatrix,\n",
    "            annot=False,\n",
    "            vmax=1,\n",
    "            vmin=-1)\n",
    "\n",
    "plt.show()"
   ]
  },
  {
   "cell_type": "markdown",
   "id": "bfc11692",
   "metadata": {},
   "source": [
    "Ya vemos varias columnas en blanco que nos indican que están vacías, vamos a verlas en detalle y ordenadas:"
   ]
  },
  {
   "cell_type": "code",
   "execution_count": 20,
   "id": "3a9d5170",
   "metadata": {},
   "outputs": [
    {
     "data": {
      "text/plain": [
       "neighbourhood_group_cleansed    4167\n",
       "calendar_updated                4167\n",
       "bathrooms                       4167\n",
       "host_neighbourhood              1786\n",
       "host_about                      1512\n",
       "host_response_time              1413\n",
       "host_response_rate              1413\n",
       "neighbourhood                   1163\n",
       "neighborhood_overview           1163\n",
       "host_acceptance_rate            1092\n",
       "review_scores_communication      385\n",
       "review_scores_location           385\n",
       "review_scores_value              385\n",
       "review_scores_checkin            385\n",
       "review_scores_accuracy           385\n",
       "review_scores_cleanliness        385\n",
       "first_review                     377\n",
       "last_review                      377\n",
       "reviews_per_month                377\n",
       "review_scores_rating             377\n",
       "bedrooms                         253\n",
       "beds                             174\n",
       "license                           32\n",
       "host_location                     12\n",
       "description                        8\n",
       "bathrooms_text                     8\n",
       "maximum_nights_avg_ntm             1\n",
       "minimum_nights_avg_ntm             1\n",
       "maximum_maximum_nights             1\n",
       "maximum_minimum_nights             1\n",
       "minimum_minimum_nights             1\n",
       "minimum_maximum_nights             1\n",
       "dtype: int64"
      ]
     },
     "execution_count": 20,
     "metadata": {},
     "output_type": "execute_result"
    }
   ],
   "source": [
    "nan_rank = train.isna().sum() #Most to least Nans columns\n",
    "nan_rank[nan_rank.values > 0].sort_values(ascending=False)"
   ]
  },
  {
   "cell_type": "markdown",
   "id": "5b0af3cb",
   "metadata": {},
   "source": [
    " ## Miramos la columna PRICE:"
   ]
  },
  {
   "cell_type": "code",
   "execution_count": 16,
   "id": "cb0a4476",
   "metadata": {},
   "outputs": [
    {
     "data": {
      "text/plain": [
       "count    4167.000000\n",
       "mean      168.676986\n",
       "std       180.658555\n",
       "min         0.000000\n",
       "25%        98.000000\n",
       "50%       138.000000\n",
       "75%       200.000000\n",
       "max      6477.000000\n",
       "Name: price, dtype: float64"
      ]
     },
     "execution_count": 16,
     "metadata": {},
     "output_type": "execute_result"
    }
   ],
   "source": [
    "train['price'].describe().T"
   ]
  },
  {
   "cell_type": "code",
   "execution_count": 21,
   "id": "3a8a7c95",
   "metadata": {
    "scrolled": false
   },
   "outputs": [
    {
     "data": {
      "text/plain": [
       "(6477, 0)"
      ]
     },
     "execution_count": 21,
     "metadata": {},
     "output_type": "execute_result"
    }
   ],
   "source": [
    "int(train['price'].max()),int(train['price'].min()) # FREE acomodations!! yay!! - probably scrape errors"
   ]
  },
  {
   "cell_type": "markdown",
   "id": "1463db69",
   "metadata": {},
   "source": [
    "Hay 4 localizaciones que por lo visto son gratuitas, comprobado a través de las url que son errores, asumimos que de escrapeo"
   ]
  },
  {
   "cell_type": "code",
   "execution_count": 27,
   "id": "6a4caf41",
   "metadata": {
    "scrolled": false
   },
   "outputs": [
    {
     "data": {
      "text/plain": [
       "(4, 74)"
      ]
     },
     "execution_count": 27,
     "metadata": {},
     "output_type": "execute_result"
    }
   ],
   "source": [
    "freebies = train[train['price'] == 0] #4 free acomodations\n",
    "freebies.shape"
   ]
  },
  {
   "cell_type": "markdown",
   "id": "4cb0b8b4",
   "metadata": {},
   "source": [
    "Vamos a echar un ojo a la distribucion de los precios:"
   ]
  },
  {
   "cell_type": "code",
   "execution_count": 26,
   "id": "1d1822b4",
   "metadata": {},
   "outputs": [
    {
     "data": {
      "text/plain": [
       "<AxesSubplot:>"
      ]
     },
     "execution_count": 26,
     "metadata": {},
     "output_type": "execute_result"
    },
    {
     "data": {
      "image/png": "[encoded data removed]",
      "text/plain": [
       "<Figure size 432x288 with 1 Axes>"
      ]
     },
     "metadata": {
      "needs_background": "light"
     },
     "output_type": "display_data"
    }
   ],
   "source": [
    "prices = pd.cut(train['price'],\n",
    "                bins = [0, 50, 100, 150, 200, 250, train[\"price\"].max()],\n",
    "                labels=[\"0-50\", \"50-100\", \"100-150\", \"150-200\", \"200-250\", \"+250\"]) \n",
    "prices.value_counts().sort_index().plot(kind=\"bar\", rot = 0)"
   ]
  },
  {
   "cell_type": "code",
   "execution_count": 31,
   "id": "9e072b58",
   "metadata": {},
   "outputs": [
    {
     "data": {
      "text/plain": [
       "0.8454523638108952"
      ]
     },
     "execution_count": 31,
     "metadata": {},
     "output_type": "execute_result"
    }
   ],
   "source": [
    "cortado = train[train['price']<250]\n",
    "cortado.price.shape[0]/train.shape[0]"
   ]
  },
  {
   "cell_type": "markdown",
   "id": "1d37904d",
   "metadata": {},
   "source": [
    "Casi el 85% de los datos, está por debajo de 250€ -- hay muchos Outlliers.\n",
    "He optado por entrenar modelos sin ellos, asumiento que la distribucion de ellos en el test será pareja. Por lo que opto por afinar mas las predicciones en los inliners y fallar los outliers."
   ]
  },
  {
   "cell_type": "markdown",
   "id": "0a25e17d",
   "metadata": {},
   "source": [
    "## PLOTTING LOCATIONS MAP (Mapbox)"
   ]
  },
  {
   "cell_type": "code",
   "execution_count": null,
   "id": "285850cf",
   "metadata": {},
   "outputs": [],
   "source": []
  },
  {
   "cell_type": "code",
   "execution_count": null,
   "id": "752b1426",
   "metadata": {},
   "outputs": [],
   "source": [
    "px.scatter_geo(train,cortado.latitude,cortado.longitude, color=cortado.price ,fitbounds='locations')"
   ]
  },
  {
   "cell_type": "code",
   "execution_count": null,
   "id": "a6d8b6a1",
   "metadata": {},
   "outputs": [],
   "source": [
    "train['geo'] = train['latitude'].map(str) + ',' + train['longitude'].map(str)\n",
    "train['geo'].sample()"
   ]
  },
  {
   "cell_type": "code",
   "execution_count": null,
   "id": "bfccf3de",
   "metadata": {},
   "outputs": [],
   "source": [
    "#locator = Nominatim(user_agent='myGeocoder')\n",
    "#coordinates = '53.480837, -2.244914' #EJEMPLO# \n",
    "#location = locator.reverse(coordinates)\n",
    "#location.raw"
   ]
  },
  {
   "cell_type": "code",
   "execution_count": null,
   "id": "390d16e8",
   "metadata": {},
   "outputs": [],
   "source": [
    "geolocator = Nominatim(user_agent='myGeocoder')\n",
    "location = geolocator.reverse"
   ]
  },
  {
   "cell_type": "code",
   "execution_count": null,
   "id": "4402f7ae",
   "metadata": {},
   "outputs": [],
   "source": [
    "#location(train.geo[2]) #Funcionando"
   ]
  },
  {
   "cell_type": "code",
   "execution_count": null,
   "id": "c2b601f4",
   "metadata": {},
   "outputs": [],
   "source": []
  },
  {
   "cell_type": "code",
   "execution_count": null,
   "id": "91eff559",
   "metadata": {},
   "outputs": [],
   "source": [
    "#NO RULA demasiado tiempo intentando obtener el dato\n",
    "\n",
    "#train['address'] = train['geo'].apply(location)\n"
   ]
  },
  {
   "cell_type": "markdown",
   "id": "e2f21f87",
   "metadata": {},
   "source": [
    "Quick histplot of prices"
   ]
  },
  {
   "cell_type": "code",
   "execution_count": null,
   "id": "7fa676e7",
   "metadata": {},
   "outputs": [],
   "source": [
    "#prices = pd.cut(train['price'],\n",
    "#                bins = [0, 50, 100, 150, 200, 250, train[\"price\"].max()],\n",
    "#                labels=[\"0-50\", \"50-100\", \"100-150\", \"150-200\", \"200-250\", \"+250\"])\n",
    "# \n",
    "#prices.value_counts().sort_index().plot(kind=\"bar\", rot = 0)#"
   ]
  },
  {
   "cell_type": "code",
   "execution_count": null,
   "id": "81824e7e",
   "metadata": {},
   "outputs": [],
   "source": [
    "#mayoria = train[train['price']<=250].shape[0]\n",
    "#total = train.shape[0]\n",
    "#mayoria/total #Casi el 87% de los precios estan por debajo de 250€"
   ]
  },
  {
   "cell_type": "markdown",
   "id": "ea267a33",
   "metadata": {},
   "source": [
    "## DROPPING OUTLIERS:"
   ]
  },
  {
   "cell_type": "code",
   "execution_count": null,
   "id": "97d428b1",
   "metadata": {},
   "outputs": [],
   "source": [
    "#Esto no lo haremos sobre el test, solo para entreanar:\n",
    "#def dropouts(df, column):\n",
    "#    IQR = 1.5* (np.percentile(df[column],75)) - (np.percentile(df[column],25))\n",
    "#    df.drop(df[df[column] > (IQR + np.percentile(df[column], 75))].index, inplace=True)\n",
    "#    df.drop(df[df[column] < (np.percentile(df[column], 25)- IQR)].index, inplace=True)\n",
    "#    print('Dropeados!')"
   ]
  },
  {
   "cell_type": "code",
   "execution_count": null,
   "id": "bb35231d",
   "metadata": {},
   "outputs": [],
   "source": [
    "#Nos cepillamos los outliers de price:\n",
    "#dropouts(train, 'price')"
   ]
  },
  {
   "cell_type": "code",
   "execution_count": null,
   "id": "9f98312e",
   "metadata": {},
   "outputs": [],
   "source": [
    "###"
   ]
  },
  {
   "cell_type": "code",
   "execution_count": null,
   "id": "b74ee1ab",
   "metadata": {},
   "outputs": [],
   "source": [
    "train.shape"
   ]
  },
  {
   "cell_type": "markdown",
   "id": "e288ce66",
   "metadata": {},
   "source": [
    "### LOOKING @ COLUMNS"
   ]
  },
  {
   "cell_type": "markdown",
   "id": "f4a381b7",
   "metadata": {},
   "source": [
    "How does our df's rows look like?\n",
    "Just like <code>df.head(1)</code>, but nicer ;)"
   ]
  },
  {
   "cell_type": "code",
   "execution_count": null,
   "id": "7c65a7c4",
   "metadata": {},
   "outputs": [],
   "source": [
    "train.sample()"
   ]
  },
  {
   "cell_type": "code",
   "execution_count": null,
   "id": "4bf6170f",
   "metadata": {
    "scrolled": true
   },
   "outputs": [],
   "source": [
    "#train.iloc[train['id'][0]] "
   ]
  },
  {
   "cell_type": "markdown",
   "id": "26eb3442",
   "metadata": {},
   "source": [
    "NaN values"
   ]
  },
  {
   "cell_type": "code",
   "execution_count": null,
   "id": "4621d587",
   "metadata": {},
   "outputs": [],
   "source": [
    "nan_rank = train.isna().sum() #Most to least Nans columns\n",
    "nan_rank[nan_rank.values > 0].sort_values(ascending=False)"
   ]
  },
  {
   "cell_type": "code",
   "execution_count": null,
   "id": "fbee100b",
   "metadata": {},
   "outputs": [],
   "source": [
    "avg_price_superhost = train.groupby('host_is_superhost').mean()[\"price\"]\n",
    "avg_price_superhost.plot(kind=\"bar\")\n",
    "plt.title(\"Avg. Price by host is superhost \")\n",
    "plt.show()"
   ]
  },
  {
   "cell_type": "markdown",
   "id": "75c99f5f",
   "metadata": {},
   "source": [
    "Al contrario de lo que podríamos esperar, el precio varía en funcion de si el host es Super o No pero\n",
    "aunque de manera inversa a lo esperable"
   ]
  },
  {
   "cell_type": "code",
   "execution_count": null,
   "id": "769f5a69",
   "metadata": {},
   "outputs": [],
   "source": [
    "#plt.xticks(rotation=90)\n",
    "\n",
    "avg_price_host_veri = train.groupby('host_identity_verified').mean()[\"price\"]\n",
    "avg_price_host_veri.plot(kind=\"bar\")\n",
    "plt.title(\"Avg. Price by host is verified \")\n",
    "plt.show()"
   ]
  },
  {
   "cell_type": "markdown",
   "id": "e37bb398",
   "metadata": {},
   "source": [
    "### ver como hacer casteo del host acceptance rate porque no me sale ni a palos"
   ]
  },
  {
   "cell_type": "code",
   "execution_count": null,
   "id": "28d5467e",
   "metadata": {},
   "outputs": [],
   "source": [
    "#train.host_acceptance_rate.astype(str)\n",
    "#train.host_acceptance_rate.dtypes\n",
    "\n",
    "#train.host_acceptance_rate = train.host_acceptance_rate.astype(str)#\n",
    "#\n",
    "#acc = pd.cut(train['host_acceptance_rate'],\n",
    "#                bins = [0, 20, 40, 60, 80, 100],\n",
    "#                labels=[\"0-20\", \"20-40\", \"40-60\", \"60-80\", \"80-100\"])\n",
    "# \n",
    "#acc.value_counts().sort_index().plot(kind=\"bar\", rot = 0)\n",
    "\n",
    "#avg_price_acc = train.groupby('host_acceptance_rate').mean()[\"price\"]\n",
    "#avg_price_host_veri.plot(kind=\"bar\")\n",
    "#plt.title(\"Avg. Price by host is verified \")\n",
    "#plt.show()"
   ]
  },
  {
   "cell_type": "code",
   "execution_count": null,
   "id": "1914bd86",
   "metadata": {},
   "outputs": [],
   "source": [
    "type(train.host_acceptance_rate[0])"
   ]
  },
  {
   "cell_type": "markdown",
   "id": "952bad6a",
   "metadata": {},
   "source": [
    "## CLUSTERIZANDO LATITUDE Y LONGITUD"
   ]
  },
  {
   "cell_type": "markdown",
   "id": "4da665f0",
   "metadata": {},
   "source": [
    "### CON HDBSCAN"
   ]
  },
  {
   "cell_type": "code",
   "execution_count": null,
   "id": "a80d6341",
   "metadata": {},
   "outputs": [],
   "source": [
    "#0.01 / 6378"
   ]
  },
  {
   "cell_type": "markdown",
   "id": "19dca763",
   "metadata": {},
   "source": [
    "### HABLAR CON YONA PARA VER TEMA DE MANTENER LOS GRUPOS CLUSTERIZADOS ANTERIORMENTE:"
   ]
  },
  {
   "cell_type": "code",
   "execution_count": null,
   "id": "241079fe",
   "metadata": {},
   "outputs": [],
   "source": [
    "#latitude y longitud los vamos a clusterizar con DBSCAN: --> METIDO EN UNA FUNCION\n",
    "#!pip install hdbscan\n",
    "\n",
    "#hdbscan=HDBSCAN(min_cluster_size=3,min_samples=2,cluster_selection_epsilon=0.01,\n",
    "                #allow_single_cluster=False,prediction_data=True,leaf_size=30)\n",
    "      \n",
    "#help(hdbscan)\n",
    "##PARAMS\n",
    "#algorithm='best', alpha=1.0, approx_min_span_tree=True,\n",
    "#    gen_min_span_tree=False, leaf_size=40, memory=Memory(cachedir=None),\n",
    "#    metric='euclidean', min_cluster_size=5, min_samples=None, p=None"
   ]
  },
  {
   "cell_type": "markdown",
   "id": "f438b5be",
   "metadata": {},
   "source": [
    "Cuales son la etiquetas de HDBSCAN??"
   ]
  },
  {
   "cell_type": "code",
   "execution_count": null,
   "id": "e60e2a3e",
   "metadata": {},
   "outputs": [],
   "source": [
    "#train.head()"
   ]
  },
  {
   "cell_type": "code",
   "execution_count": null,
   "id": "ff178e7f",
   "metadata": {},
   "outputs": [],
   "source": [
    "#test=pd.read_csv('data/test.csv.zip') #Cargamos el test para ver como clusteriza los nuevos puntos"
   ]
  },
  {
   "cell_type": "code",
   "execution_count": null,
   "id": "d97e412c",
   "metadata": {},
   "outputs": [],
   "source": [
    "#test_points = np.column_stack((test['longitude'],test['latitude']))"
   ]
  },
  {
   "cell_type": "code",
   "execution_count": null,
   "id": "613b6f46",
   "metadata": {},
   "outputs": [],
   "source": [
    "#test_labels, strengths = hdbscan.prediction.approximate_predict(clasi, test_points)\n",
    "#test_labels = clasi.approximate_predict(clasi, test_points)"
   ]
  },
  {
   "cell_type": "code",
   "execution_count": null,
   "id": "2593844f",
   "metadata": {},
   "outputs": [],
   "source": [
    "#help(clasi)"
   ]
  },
  {
   "cell_type": "markdown",
   "id": "32a6c105",
   "metadata": {},
   "source": [
    "### FUNCION LIMPIEZA:"
   ]
  },
  {
   "cell_type": "code",
   "execution_count": null,
   "id": "b00d78c0",
   "metadata": {},
   "outputs": [],
   "source": [
    "import funciones as f"
   ]
  },
  {
   "cell_type": "code",
   "execution_count": null,
   "id": "87de8df2",
   "metadata": {},
   "outputs": [],
   "source": [
    "train.beds.isna().sum()"
   ]
  },
  {
   "cell_type": "markdown",
   "id": "1292883e",
   "metadata": {},
   "source": [
    "MIRAR BIEN LO DE CATS / QUE SOLO COGE EL PRIMER\n",
    "MIRAR TB LO DE LOS AMENITIES QUE ME LOS HE CEPILLADO\n"
   ]
  },
  {
   "cell_type": "code",
   "execution_count": null,
   "id": "c3539950",
   "metadata": {},
   "outputs": [],
   "source": [
    "#avg_price_host_since = train.groupby('host_since_year').mean()[\"price\"]\n",
    "#avg_price_host_since.plot(kind=\"bar\")\n",
    "#plt.title(\"Avg. Price by host since year\")\n",
    "#plt.show()"
   ]
  },
  {
   "cell_type": "markdown",
   "id": "9fb8c229",
   "metadata": {},
   "source": [
    "# H2O"
   ]
  },
  {
   "cell_type": "code",
   "execution_count": null,
   "id": "c2292c79",
   "metadata": {},
   "outputs": [],
   "source": [
    "train_ready = f.clean(train)\n",
    "train_ready.columns"
   ]
  },
  {
   "cell_type": "code",
   "execution_count": null,
   "id": "5cd754be",
   "metadata": {},
   "outputs": [],
   "source": [
    "import h2o\n",
    "from h2o.automl import H2OAutoML"
   ]
  },
  {
   "cell_type": "code",
   "execution_count": null,
   "id": "5844eea1",
   "metadata": {},
   "outputs": [],
   "source": [
    "h2o.init(\n",
    "    nthreads=-1,     # number of threads when launching a new H2O server\n",
    "    max_mem_size=8,# in gigabytes\n",
    ")"
   ]
  },
  {
   "cell_type": "code",
   "execution_count": null,
   "id": "0dbd564d",
   "metadata": {},
   "outputs": [],
   "source": [
    "train_H2o = h2o.H2OFrame(train_ready)"
   ]
  },
  {
   "cell_type": "code",
   "execution_count": null,
   "id": "7a604c58",
   "metadata": {},
   "outputs": [],
   "source": [
    "y = \"price\" #Target a predecir\n",
    "splits = train_H2o.split_frame(ratios = [0.85], seed = 42) #Hacemos tts a pelo\n",
    "train = splits[0]\n",
    "test = splits[1]"
   ]
  },
  {
   "cell_type": "code",
   "execution_count": null,
   "id": "bb1a739f",
   "metadata": {},
   "outputs": [],
   "source": [
    "aml = H2OAutoML(seed=10, max_models = 30, max_runtime_secs = 100000000000000000099999999223500,\n",
    "                max_runtime_secs_per_model = 999999999993600)\n",
    "aml.train(y = y, training_frame = train, leaderboard_frame = test)"
   ]
  },
  {
   "cell_type": "code",
   "execution_count": null,
   "id": "9b513e7f",
   "metadata": {},
   "outputs": [],
   "source": []
  },
  {
   "cell_type": "code",
   "execution_count": null,
   "id": "eb8e18ce",
   "metadata": {},
   "outputs": [],
   "source": [
    "lb = aml.leaderboard\n",
    "lb\n",
    "\n",
    "perf = aml.leader.model_performance(test)\n"
   ]
  },
  {
   "cell_type": "code",
   "execution_count": null,
   "id": "840f94a1",
   "metadata": {},
   "outputs": [],
   "source": []
  },
  {
   "cell_type": "code",
   "execution_count": null,
   "id": "e646501b",
   "metadata": {},
   "outputs": [],
   "source": [
    "#ENTRENAMIENTO CON DATA SET COMPLETO\n",
    "#aml.leader.train(y = y, training_frame = train_H2o)"
   ]
  },
  {
   "cell_type": "code",
   "execution_count": null,
   "id": "cfb464e6",
   "metadata": {},
   "outputs": [],
   "source": [
    "#test = pd.read_csv('data/test.csv.zip')"
   ]
  },
  {
   "cell_type": "code",
   "execution_count": null,
   "id": "91fe321a",
   "metadata": {},
   "outputs": [],
   "source": [
    "#f.clean(test)"
   ]
  },
  {
   "cell_type": "code",
   "execution_count": null,
   "id": "6b5466c9",
   "metadata": {},
   "outputs": [],
   "source": []
  },
  {
   "cell_type": "code",
   "execution_count": null,
   "id": "b0e12483",
   "metadata": {},
   "outputs": [],
   "source": [
    "#testh2o = h2o.H2OFrame(test)\n",
    "#prediccion_test_completo = aml.leader.predict(testh2o)"
   ]
  },
  {
   "cell_type": "code",
   "execution_count": null,
   "id": "2f5b752d",
   "metadata": {},
   "outputs": [],
   "source": [
    "#QUIETO"
   ]
  },
  {
   "cell_type": "code",
   "execution_count": null,
   "id": "fc92b65e",
   "metadata": {},
   "outputs": [],
   "source": [
    "#predict = h2o.as_list(prediccion_test_completo)\n",
    "#f.export(predict,'modelo7')"
   ]
  },
  {
   "cell_type": "code",
   "execution_count": null,
   "id": "cdf9c406",
   "metadata": {},
   "outputs": [],
   "source": [
    "#predict.to_csv((\"data/{}.csv\".format(nombre)))\n",
    "#sample = pd.read_csv('data/sample.csv')\n",
    "#sample.price = predict.predict  #Cambiamos columna price por la Series de Pandas que tenemos\n",
    "#sample.to_csv('data/modelo4_predict.csv', index = False)"
   ]
  },
  {
   "cell_type": "code",
   "execution_count": null,
   "id": "058715ae",
   "metadata": {},
   "outputs": [],
   "source": [
    "#Viendo los insgiths de las columnas que me da modelo 4 me puedo cepillar la mitad"
   ]
  },
  {
   "cell_type": "markdown",
   "id": "11f0708a",
   "metadata": {},
   "source": [
    "## PYCARET"
   ]
  },
  {
   "cell_type": "code",
   "execution_count": null,
   "id": "2004285c",
   "metadata": {},
   "outputs": [],
   "source": [
    "from pycaret.regression import *"
   ]
  },
  {
   "cell_type": "code",
   "execution_count": null,
   "id": "1013a3de",
   "metadata": {},
   "outputs": [],
   "source": [
    "train_ready = f.clean(train)\n",
    "train_ready.head()"
   ]
  },
  {
   "cell_type": "code",
   "execution_count": null,
   "id": "fc68e507",
   "metadata": {},
   "outputs": [],
   "source": [
    "#data = train_ready(frac=0.9, random_state=42)\n",
    "#data_unseen = train_ready.drop(data.index)\n",
    "#\n",
    "#data.reset_index(drop=True, inplace=True)\n",
    "#data_unseen.reset_index(drop=True, inplace=True)\n",
    "#\n",
    "#s = setup(data = data, target = 'price', session_id=123)#"
   ]
  },
  {
   "cell_type": "code",
   "execution_count": null,
   "id": "36458fe0",
   "metadata": {},
   "outputs": [],
   "source": [
    "#f.clean(test)"
   ]
  },
  {
   "cell_type": "markdown",
   "id": "050f5b42",
   "metadata": {},
   "source": [
    "## SGR"
   ]
  },
  {
   "cell_type": "code",
   "execution_count": null,
   "id": "9d5d44da",
   "metadata": {},
   "outputs": [],
   "source": [
    "train = pd.read_csv('data/train.csv.zip')\n",
    "test = pd.read_csv('data/test.csv.zip')"
   ]
  },
  {
   "cell_type": "code",
   "execution_count": null,
   "id": "d75cb58f",
   "metadata": {},
   "outputs": [],
   "source": [
    "train_ready = f.clean(train)\n",
    "train_ready.head()"
   ]
  },
  {
   "cell_type": "code",
   "execution_count": null,
   "id": "839ef145",
   "metadata": {},
   "outputs": [],
   "source": [
    "train_ready.columns"
   ]
  },
  {
   "cell_type": "code",
   "execution_count": null,
   "id": "d325253b",
   "metadata": {},
   "outputs": [],
   "source": [
    "test_ready = f.clean(test)\n",
    "test_ready.shape"
   ]
  },
  {
   "cell_type": "code",
   "execution_count": null,
   "id": "47304221",
   "metadata": {},
   "outputs": [],
   "source": [
    "from sklearn.linear_model import SGDRegressor as SGDR\n",
    "\n",
    "X_train_d, X_test_d, y_train_d, y_test_d = tts(train_ready.drop('price', axis=1), \n",
    "                                               train_ready.price)"
   ]
  },
  {
   "cell_type": "code",
   "execution_count": null,
   "id": "225211e4",
   "metadata": {},
   "outputs": [],
   "source": [
    "sgdr=SGDR(max_iter=50000)"
   ]
  },
  {
   "cell_type": "code",
   "execution_count": null,
   "id": "dff8ed0a",
   "metadata": {},
   "outputs": [],
   "source": [
    "def regre(modelo):\n",
    "    \n",
    "    modelo.fit(X_train_d, y_train_d)\n",
    "    \n",
    "    train_score = modelo.score(X_train_d, y_train_d)  # R2\n",
    "    test_score = modelo.score(X_test_d, y_test_d)\n",
    "    \n",
    "    print(modelo)\n",
    "    print('Train R2:', train_score)\n",
    "    print('Test R2:', test_score)\n",
    "    \n",
    "    return modelo"
   ]
  },
  {
   "cell_type": "code",
   "execution_count": null,
   "id": "3832890a",
   "metadata": {},
   "outputs": [],
   "source": [
    "X_test_d.head()"
   ]
  },
  {
   "cell_type": "code",
   "execution_count": null,
   "id": "851c2e18",
   "metadata": {},
   "outputs": [],
   "source": [
    "sgdr=regre(sgdr)"
   ]
  },
  {
   "cell_type": "code",
   "execution_count": null,
   "id": "84aa6108",
   "metadata": {},
   "outputs": [],
   "source": [
    "from sklearn.neighbors import KNeighborsRegressor as KNNR"
   ]
  },
  {
   "cell_type": "code",
   "execution_count": null,
   "id": "7779653e",
   "metadata": {},
   "outputs": [],
   "source": [
    "knnr=KNNR(n_neighbors=5, weights='distance')\n",
    "\n",
    "knnr=regre(knnr)"
   ]
  },
  {
   "cell_type": "code",
   "execution_count": null,
   "id": "fa204993",
   "metadata": {},
   "outputs": [],
   "source": [
    "from sklearn.ensemble import GradientBoostingRegressor as GBR"
   ]
  },
  {
   "cell_type": "code",
   "execution_count": null,
   "id": "2e010844",
   "metadata": {},
   "outputs": [],
   "source": [
    "gbr=GBR(n_estimators=200, learning_rate=0.03)\n",
    "\n",
    "gbr=regre(gbr)"
   ]
  },
  {
   "cell_type": "code",
   "execution_count": null,
   "id": "84f523c4",
   "metadata": {},
   "outputs": [],
   "source": [
    "EXPORTACION"
   ]
  },
  {
   "cell_type": "code",
   "execution_count": null,
   "id": "50a66898",
   "metadata": {},
   "outputs": [],
   "source": [
    "predict.to_csv((\"data/{}.csv\".format(nombre)))\n",
    "sample = pd.read_csv('data/sample.csv')\n",
    "sample.price = predict.predict  #Cambiamos columna price por la Series de Pandas que tenemos\n",
    "sample.to_csv('data/modelo4_predict.csv', index = False)"
   ]
  },
  {
   "cell_type": "code",
   "execution_count": null,
   "id": "d8233e39",
   "metadata": {},
   "outputs": [],
   "source": []
  },
  {
   "cell_type": "code",
   "execution_count": null,
   "id": "21058720",
   "metadata": {},
   "outputs": [],
   "source": []
  },
  {
   "cell_type": "code",
   "execution_count": null,
   "id": "af203e21",
   "metadata": {},
   "outputs": [],
   "source": []
  },
  {
   "cell_type": "code",
   "execution_count": null,
   "id": "165a47ce",
   "metadata": {},
   "outputs": [],
   "source": []
  }
 ],
 "metadata": {
  "kernelspec": {
   "display_name": "Python [conda env:ironhack] *",
   "language": "python",
   "name": "conda-env-ironhack-py"
  },
  "language_info": {
   "codemirror_mode": {
    "name": "ipython",
    "version": 3
   },
   "file_extension": ".py",
   "mimetype": "text/x-python",
   "name": "python",
   "nbconvert_exporter": "python",
   "pygments_lexer": "ipython3",
   "version": "3.9.7"
  }
 },
 "nbformat": 4,
 "nbformat_minor": 5
}
